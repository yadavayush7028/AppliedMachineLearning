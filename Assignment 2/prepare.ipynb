{
 "cells": [
  {
   "cell_type": "markdown",
   "metadata": {},
   "source": [
    "# Assignment 1\n",
    "\n",
    "### Ayush Yadav (MDS202315)\n",
    "\n",
    "**Data Version Control** <br>\n",
    "\n",
    "In `prepare.ipynb` track the versions of data using dvc\n",
    "1) Load the raw data into raw_data.csv and save the split data into train.csv/validation.csv/test.csv\n",
    "2) Update train/validation/test split by choosing different random seed\n",
    "3) Checkout the first version (before update) using dvc and print the distribution of target variable (number of 0s and number of 1s) in train.csv, validation.csv, and test.csv\n",
    "4) Checkout the updated version using dvc and print the distribution of target variable in train.csv, validation.csv, test.csv\n",
    "\n"
   ]
  },
  {
   "cell_type": "markdown",
   "metadata": {},
   "source": [
    "## Set up dvc"
   ]
  },
  {
   "cell_type": "code",
   "execution_count": 11,
   "metadata": {},
   "outputs": [
    {
     "name": "stdout",
     "output_type": "stream",
     "text": [
      "Initialized DVC repository.\n",
      "\n",
      "+---------------------------------------------------------------------+\n",
      "|                                                                     |\n",
      "|        DVC has enabled anonymous aggregate usage analytics.         |\n",
      "|     Read the analytics documentation (and how to opt-out) here:     |\n",
      "|             <https://dvc.org/doc/user-guide/analytics>              |\n",
      "|                                                                     |\n",
      "+---------------------------------------------------------------------+\n",
      "\n",
      "What's next?\n",
      "------------\n",
      "- Check out the documentation: <https://dvc.org/doc>\n",
      "- Get help and share ideas: <https://dvc.org/chat>\n",
      "- Star us on GitHub: <https://github.com/iterative/dvc>\n"
     ]
    }
   ],
   "source": [
    "!dvc init --no-scm"
   ]
  },
  {
   "cell_type": "code",
   "execution_count": 12,
   "metadata": {},
   "outputs": [
    {
     "name": "stdout",
     "output_type": "stream",
     "text": [
      "On branch main\n",
      "Your branch is up to date with 'origin/main'.\n",
      "\n",
      "Untracked files:\n",
      "  (use \"git add <file>...\" to include in what will be committed)\n",
      "\t./\n",
      "\n",
      "nothing added to commit but untracked files present (use \"git add\" to track)\n"
     ]
    }
   ],
   "source": [
    "!git status"
   ]
  },
  {
   "cell_type": "code",
   "execution_count": 14,
   "metadata": {},
   "outputs": [
    {
     "name": "stdout",
     "output_type": "stream",
     "text": [
      "[main 2005ffa] Reinitialize DVC\n",
      " 2 files changed, 2 insertions(+)\n",
      " create mode 100644 Assignment 2/.dvc/config\n",
      " create mode 100644 Assignment 2/.dvc/tmp/btime\n"
     ]
    },
    {
     "name": "stderr",
     "output_type": "stream",
     "text": [
      "To https://github.com/yadavayush7028/AppliedMachineLearning.git\n",
      "   8364a24..2005ffa  main -> main\n"
     ]
    }
   ],
   "source": [
    "!git add .dvc\n",
    "!git commit -m \"Reinitialize DVC\"\n",
    "!git push origin main"
   ]
  },
  {
   "cell_type": "code",
   "execution_count": 15,
   "metadata": {},
   "outputs": [
    {
     "name": "stdout",
     "output_type": "stream",
     "text": [
      "Setting 'gdrive_remote' as a default remote.\n"
     ]
    }
   ],
   "source": [
    "!dvc remote add -d gdrive_remote gdrive://1lqWMn1zwrachgWtH82xSFnOsYZsoiDgU"
   ]
  },
  {
   "cell_type": "code",
   "execution_count": 16,
   "metadata": {},
   "outputs": [],
   "source": [
    "!dvc remote modify gdrive_remote gdrive_use_service_account true\n",
    "!dvc remote modify gdrive_remote --local \\\n",
    "            gdrive_service_account_json_file_path maps-391110-98fa3766ee6f.json"
   ]
  },
  {
   "cell_type": "code",
   "execution_count": 17,
   "metadata": {},
   "outputs": [],
   "source": [
    "import pandas as pd\n",
    "import numpy as np\n",
    "import matplotlib.pyplot as plt\n",
    "import re\n",
    "\n",
    "import nltk\n",
    "from nltk.corpus import stopwords, wordnet\n",
    "from nltk.stem import WordNetLemmatizer\n",
    "from nltk.tokenize import word_tokenize\n",
    "\n",
    "from sklearn.feature_extraction.text import CountVectorizer, TfidfTransformer\n",
    "from sklearn.naive_bayes import MultinomialNB\n",
    "from sklearn.svm import SVC, LinearSVC\n",
    "from sklearn.metrics import classification_report, f1_score, accuracy_score, confusion_matrix\n",
    "from sklearn.pipeline import Pipeline\n",
    "from sklearn.model_selection import GridSearchCV, StratifiedKFold, cross_val_score, train_test_split \n",
    "from sklearn.tree import DecisionTreeClassifier \n",
    "from scipy import sparse\n",
    "from scipy.sparse import save_npz\n",
    "import pickle"
   ]
  },
  {
   "cell_type": "markdown",
   "metadata": {},
   "source": [
    "#### 1. Loading the Data"
   ]
  },
  {
   "cell_type": "code",
   "execution_count": 19,
   "metadata": {},
   "outputs": [
    {
     "data": {
      "application/vnd.microsoft.datawrangler.viewer.v0+json": {
       "columns": [
        {
         "name": "index",
         "rawType": "int64",
         "type": "integer"
        },
        {
         "name": "label",
         "rawType": "object",
         "type": "string"
        },
        {
         "name": "message",
         "rawType": "object",
         "type": "string"
        }
       ],
       "conversionMethod": "pd.DataFrame",
       "ref": "8985b012-1acc-46f7-92f0-5e0e216b8445",
       "rows": [
        [
         "0",
         "ham",
         "Go until jurong point, crazy.. Available only in bugis n great world la e buffet... Cine there got amore wat..."
        ],
        [
         "1",
         "ham",
         "Ok lar... Joking wif u oni..."
        ],
        [
         "2",
         "spam",
         "Free entry in 2 a wkly comp to win FA Cup final tkts 21st May 2005. Text FA to 87121 to receive entry question(std txt rate)T&C's apply 08452810075over18's"
        ],
        [
         "3",
         "ham",
         "U dun say so early hor... U c already then say..."
        ],
        [
         "4",
         "ham",
         "Nah I don't think he goes to usf, he lives around here though"
        ],
        [
         "5",
         "spam",
         "FreeMsg Hey there darling it's been 3 week's now and no word back! I'd like some fun you up for it still? Tb ok! XxX std chgs to send, £1.50 to rcv"
        ],
        [
         "6",
         "ham",
         "Even my brother is not like to speak with me. They treat me like aids patent."
        ],
        [
         "7",
         "ham",
         "As per your request 'Melle Melle (Oru Minnaminunginte Nurungu Vettam)' has been set as your callertune for all Callers. Press *9 to copy your friends Callertune"
        ],
        [
         "8",
         "spam",
         "WINNER!! As a valued network customer you have been selected to receivea £900 prize reward! To claim call 09061701461. Claim code KL341. Valid 12 hours only."
        ],
        [
         "9",
         "spam",
         "Had your mobile 11 months or more? U R entitled to Update to the latest colour mobiles with camera for Free! Call The Mobile Update Co FREE on 08002986030"
        ],
        [
         "10",
         "ham",
         "I'm gonna be home soon and i don't want to talk about this stuff anymore tonight, k? I've cried enough today."
        ],
        [
         "11",
         "spam",
         "SIX chances to win CASH! From 100 to 20,000 pounds txt> CSH11 and send to 87575. Cost 150p/day, 6days, 16+ TsandCs apply Reply HL 4 info"
        ],
        [
         "12",
         "spam",
         "URGENT! You have won a 1 week FREE membership in our £100,000 Prize Jackpot! Txt the word: CLAIM to No: 81010 T&C www.dbuk.net LCCLTD POBOX 4403LDNW1A7RW18"
        ],
        [
         "13",
         "ham",
         "I've been searching for the right words to thank you for this breather. I promise i wont take your help for granted and will fulfil my promise. You have been wonderful and a blessing at all times."
        ],
        [
         "14",
         "ham",
         "I HAVE A DATE ON SUNDAY WITH WILL!!"
        ],
        [
         "15",
         "spam",
         "XXXMobileMovieClub: To use your credit, click the WAP link in the next txt message or click here>> http://wap. xxxmobilemovieclub.com?n=QJKGIGHJJGCBL"
        ],
        [
         "16",
         "ham",
         "Oh k...i'm watching here:)"
        ],
        [
         "17",
         "ham",
         "Eh u remember how 2 spell his name... Yes i did. He v naughty make until i v wet."
        ],
        [
         "18",
         "ham",
         "Fine if thats the way u feel. Thats the way its gota b"
        ],
        [
         "19",
         "spam",
         "England v Macedonia - dont miss the goals/team news. Txt ur national team to 87077 eg ENGLAND to 87077 Try:WALES, SCOTLAND 4txt/ú1.20 POBOXox36504W45WQ 16+"
        ],
        [
         "20",
         "ham",
         "Is that seriously how you spell his name?"
        ],
        [
         "21",
         "ham",
         "I‘m going to try for 2 months ha ha only joking"
        ],
        [
         "22",
         "ham",
         "So ü pay first lar... Then when is da stock comin..."
        ],
        [
         "23",
         "ham",
         "Aft i finish my lunch then i go str down lor. Ard 3 smth lor. U finish ur lunch already?"
        ],
        [
         "24",
         "ham",
         "Ffffffffff. Alright no way I can meet up with you sooner?"
        ],
        [
         "25",
         "ham",
         "Just forced myself to eat a slice. I'm really not hungry tho. This sucks. Mark is getting worried. He knows I'm sick when I turn down pizza. Lol"
        ],
        [
         "26",
         "ham",
         "Lol your always so convincing."
        ],
        [
         "27",
         "ham",
         "Did you catch the bus ? Are you frying an egg ? Did you make a tea? Are you eating your mom's left over dinner ? Do you feel my Love ?"
        ],
        [
         "28",
         "ham",
         "I'm back &amp; we're packing the car now, I'll let you know if there's room"
        ],
        [
         "29",
         "ham",
         "Ahhh. Work. I vaguely remember that! What does it feel like? Lol"
        ],
        [
         "30",
         "ham",
         "Wait that's still not all that clear, were you not sure about me being sarcastic or that that's why x doesn't want to live with us"
        ],
        [
         "31",
         "ham",
         "Yeah he got in at 2 and was v apologetic. n had fallen out and she was actin like spoilt child and he got caught up in that. Till 2! But we won't go there! Not doing too badly cheers. You? "
        ],
        [
         "32",
         "ham",
         "K tell me anything about you."
        ],
        [
         "33",
         "ham",
         "For fear of fainting with the of all that housework you just did? Quick have a cuppa"
        ],
        [
         "34",
         "spam",
         "Thanks for your subscription to Ringtone UK your mobile will be charged £5/month Please confirm by replying YES or NO. If you reply NO you will not be charged"
        ],
        [
         "35",
         "ham",
         "Yup... Ok i go home look at the timings then i msg ü again... Xuhui going to learn on 2nd may too but her lesson is at 8am"
        ],
        [
         "36",
         "ham",
         "Oops, I'll let you know when my roommate's done"
        ],
        [
         "37",
         "ham",
         "I see the letter B on my car"
        ],
        [
         "38",
         "ham",
         "Anything lor... U decide..."
        ],
        [
         "39",
         "ham",
         "Hello! How's you and how did saturday go? I was just texting to see if you'd decided to do anything tomo. Not that i'm trying to invite myself or anything!"
        ],
        [
         "40",
         "ham",
         "Pls go ahead with watts. I just wanted to be sure. Do have a great weekend. Abiola"
        ],
        [
         "41",
         "ham",
         "Did I forget to tell you ? I want you , I need you, I crave you ... But most of all ... I love you my sweet Arabian steed ... Mmmmmm ... Yummy"
        ],
        [
         "42",
         "spam",
         "07732584351 - Rodger Burns - MSG = We tried to call you re your reply to our sms for a free nokia mobile + free camcorder. Please call now 08000930705 for delivery tomorrow"
        ],
        [
         "43",
         "ham",
         "WHO ARE YOU SEEING?"
        ],
        [
         "44",
         "ham",
         "Great! I hope you like your man well endowed. I am  &lt;#&gt;  inches..."
        ],
        [
         "45",
         "ham",
         "No calls..messages..missed calls"
        ],
        [
         "46",
         "ham",
         "Didn't you get hep b immunisation in nigeria."
        ],
        [
         "47",
         "ham",
         "Fair enough, anything going on?"
        ],
        [
         "48",
         "ham",
         "Yeah hopefully, if tyler can't do it I could maybe ask around a bit"
        ],
        [
         "49",
         "ham",
         "U don't know how stubborn I am. I didn't even want to go to the hospital. I kept telling Mark I'm not a weak sucker. Hospitals are for weak suckers."
        ]
       ],
       "shape": {
        "columns": 2,
        "rows": 5572
       }
      },
      "text/html": [
       "<div>\n",
       "<style scoped>\n",
       "    .dataframe tbody tr th:only-of-type {\n",
       "        vertical-align: middle;\n",
       "    }\n",
       "\n",
       "    .dataframe tbody tr th {\n",
       "        vertical-align: top;\n",
       "    }\n",
       "\n",
       "    .dataframe thead th {\n",
       "        text-align: right;\n",
       "    }\n",
       "</style>\n",
       "<table border=\"1\" class=\"dataframe\">\n",
       "  <thead>\n",
       "    <tr style=\"text-align: right;\">\n",
       "      <th></th>\n",
       "      <th>label</th>\n",
       "      <th>message</th>\n",
       "    </tr>\n",
       "  </thead>\n",
       "  <tbody>\n",
       "    <tr>\n",
       "      <th>0</th>\n",
       "      <td>ham</td>\n",
       "      <td>Go until jurong point, crazy.. Available only ...</td>\n",
       "    </tr>\n",
       "    <tr>\n",
       "      <th>1</th>\n",
       "      <td>ham</td>\n",
       "      <td>Ok lar... Joking wif u oni...</td>\n",
       "    </tr>\n",
       "    <tr>\n",
       "      <th>2</th>\n",
       "      <td>spam</td>\n",
       "      <td>Free entry in 2 a wkly comp to win FA Cup fina...</td>\n",
       "    </tr>\n",
       "    <tr>\n",
       "      <th>3</th>\n",
       "      <td>ham</td>\n",
       "      <td>U dun say so early hor... U c already then say...</td>\n",
       "    </tr>\n",
       "    <tr>\n",
       "      <th>4</th>\n",
       "      <td>ham</td>\n",
       "      <td>Nah I don't think he goes to usf, he lives aro...</td>\n",
       "    </tr>\n",
       "    <tr>\n",
       "      <th>...</th>\n",
       "      <td>...</td>\n",
       "      <td>...</td>\n",
       "    </tr>\n",
       "    <tr>\n",
       "      <th>5567</th>\n",
       "      <td>spam</td>\n",
       "      <td>This is the 2nd time we have tried 2 contact u...</td>\n",
       "    </tr>\n",
       "    <tr>\n",
       "      <th>5568</th>\n",
       "      <td>ham</td>\n",
       "      <td>Will ü b going to esplanade fr home?</td>\n",
       "    </tr>\n",
       "    <tr>\n",
       "      <th>5569</th>\n",
       "      <td>ham</td>\n",
       "      <td>Pity, * was in mood for that. So...any other s...</td>\n",
       "    </tr>\n",
       "    <tr>\n",
       "      <th>5570</th>\n",
       "      <td>ham</td>\n",
       "      <td>The guy did some bitching but I acted like i'd...</td>\n",
       "    </tr>\n",
       "    <tr>\n",
       "      <th>5571</th>\n",
       "      <td>ham</td>\n",
       "      <td>Rofl. Its true to its name</td>\n",
       "    </tr>\n",
       "  </tbody>\n",
       "</table>\n",
       "<p>5572 rows × 2 columns</p>\n",
       "</div>"
      ],
      "text/plain": [
       "     label                                            message\n",
       "0      ham  Go until jurong point, crazy.. Available only ...\n",
       "1      ham                      Ok lar... Joking wif u oni...\n",
       "2     spam  Free entry in 2 a wkly comp to win FA Cup fina...\n",
       "3      ham  U dun say so early hor... U c already then say...\n",
       "4      ham  Nah I don't think he goes to usf, he lives aro...\n",
       "...    ...                                                ...\n",
       "5567  spam  This is the 2nd time we have tried 2 contact u...\n",
       "5568   ham               Will ü b going to esplanade fr home?\n",
       "5569   ham  Pity, * was in mood for that. So...any other s...\n",
       "5570   ham  The guy did some bitching but I acted like i'd...\n",
       "5571   ham                         Rofl. Its true to its name\n",
       "\n",
       "[5572 rows x 2 columns]"
      ]
     },
     "execution_count": 19,
     "metadata": {},
     "output_type": "execute_result"
    }
   ],
   "source": [
    "data = pd.read_csv('./sms+spam+collection/SMSSpamCollection', sep='\\t', names=[\"label\", \"message\"])\n",
    "data"
   ]
  },
  {
   "cell_type": "code",
   "execution_count": 24,
   "metadata": {},
   "outputs": [
    {
     "name": "stderr",
     "output_type": "stream",
     "text": [
      "⠋ Checking graph\n",
      "\n"
     ]
    },
    {
     "name": "stdout",
     "output_type": "stream",
     "text": [
      "On branch main\n",
      "Your branch is ahead of 'origin/main' by 1 commit.\n",
      "  (use \"git push\" to publish your local commits)\n",
      "\n",
      "Changes not staged for commit:\n",
      "  (use \"git add <file>...\" to update what will be committed)\n",
      "  (use \"git restore <file>...\" to discard changes in working directory)\n",
      "\tmodified:   .dvc/config\n",
      "\n",
      "Untracked files:\n",
      "  (use \"git add <file>...\" to include in what will be committed)\n",
      "\t.dvc/cache/\n",
      "\t.dvc/config.local\n",
      "\t.dvc/tmp/lock\n",
      "\t.dvc/tmp/rwlock\n",
      "\t.dvc/tmp/rwlock.lock\n",
      "\t.dvcignore\n",
      "\tmaps-391110-98fa3766ee6f.json\n",
      "\tprepare.ipynb\n",
      "\traw_data.csv\n",
      "\tsms+spam+collection/\n",
      "\ttrain.ipynb\n",
      "\n",
      "no changes added to commit (use \"git add\" and/or \"git commit -a\")\n",
      "1 file pushed\n"
     ]
    }
   ],
   "source": [
    "# Save the raw data\n",
    "data.to_csv(\"raw_data.csv\", index=False)\n",
    "\n",
    "# Track the raw data using DVC\n",
    "!dvc add raw_data.csv\n",
    "!git add raw_data.csv.dvc\n",
    "!git commit -m \"Added raw data\"\n",
    "!dvc push"
   ]
  },
  {
   "cell_type": "code",
   "execution_count": 25,
   "metadata": {},
   "outputs": [
    {
     "data": {
      "application/vnd.microsoft.datawrangler.viewer.v0+json": {
       "columns": [
        {
         "name": "label",
         "rawType": "object",
         "type": "string"
        },
        {
         "name": "('length', 'count')",
         "rawType": "float64",
         "type": "float"
        },
        {
         "name": "('length', 'mean')",
         "rawType": "float64",
         "type": "float"
        },
        {
         "name": "('length', 'std')",
         "rawType": "float64",
         "type": "float"
        },
        {
         "name": "('length', 'min')",
         "rawType": "float64",
         "type": "float"
        },
        {
         "name": "('length', '25%')",
         "rawType": "float64",
         "type": "float"
        },
        {
         "name": "('length', '50%')",
         "rawType": "float64",
         "type": "float"
        },
        {
         "name": "('length', '75%')",
         "rawType": "float64",
         "type": "float"
        },
        {
         "name": "('length', 'max')",
         "rawType": "float64",
         "type": "float"
        }
       ],
       "conversionMethod": "pd.DataFrame",
       "ref": "59a75d48-b90e-4590-8412-3bb0dc0b15e1",
       "rows": [
        [
         "ham",
         "4825.0",
         "71.48248704663213",
         "58.44065247020548",
         "2.0",
         "33.0",
         "52.0",
         "93.0",
         "910.0"
        ],
        [
         "spam",
         "747.0",
         "138.6706827309237",
         "28.873603350548088",
         "13.0",
         "133.0",
         "149.0",
         "157.0",
         "223.0"
        ]
       ],
       "shape": {
        "columns": 8,
        "rows": 2
       }
      },
      "text/html": [
       "<div>\n",
       "<style scoped>\n",
       "    .dataframe tbody tr th:only-of-type {\n",
       "        vertical-align: middle;\n",
       "    }\n",
       "\n",
       "    .dataframe tbody tr th {\n",
       "        vertical-align: top;\n",
       "    }\n",
       "\n",
       "    .dataframe thead tr th {\n",
       "        text-align: left;\n",
       "    }\n",
       "\n",
       "    .dataframe thead tr:last-of-type th {\n",
       "        text-align: right;\n",
       "    }\n",
       "</style>\n",
       "<table border=\"1\" class=\"dataframe\">\n",
       "  <thead>\n",
       "    <tr>\n",
       "      <th></th>\n",
       "      <th colspan=\"8\" halign=\"left\">length</th>\n",
       "    </tr>\n",
       "    <tr>\n",
       "      <th></th>\n",
       "      <th>count</th>\n",
       "      <th>mean</th>\n",
       "      <th>std</th>\n",
       "      <th>min</th>\n",
       "      <th>25%</th>\n",
       "      <th>50%</th>\n",
       "      <th>75%</th>\n",
       "      <th>max</th>\n",
       "    </tr>\n",
       "    <tr>\n",
       "      <th>label</th>\n",
       "      <th></th>\n",
       "      <th></th>\n",
       "      <th></th>\n",
       "      <th></th>\n",
       "      <th></th>\n",
       "      <th></th>\n",
       "      <th></th>\n",
       "      <th></th>\n",
       "    </tr>\n",
       "  </thead>\n",
       "  <tbody>\n",
       "    <tr>\n",
       "      <th>ham</th>\n",
       "      <td>4825.0</td>\n",
       "      <td>71.482487</td>\n",
       "      <td>58.440652</td>\n",
       "      <td>2.0</td>\n",
       "      <td>33.0</td>\n",
       "      <td>52.0</td>\n",
       "      <td>93.0</td>\n",
       "      <td>910.0</td>\n",
       "    </tr>\n",
       "    <tr>\n",
       "      <th>spam</th>\n",
       "      <td>747.0</td>\n",
       "      <td>138.670683</td>\n",
       "      <td>28.873603</td>\n",
       "      <td>13.0</td>\n",
       "      <td>133.0</td>\n",
       "      <td>149.0</td>\n",
       "      <td>157.0</td>\n",
       "      <td>223.0</td>\n",
       "    </tr>\n",
       "  </tbody>\n",
       "</table>\n",
       "</div>"
      ],
      "text/plain": [
       "       length                                                         \n",
       "        count        mean        std   min    25%    50%    75%    max\n",
       "label                                                                 \n",
       "ham    4825.0   71.482487  58.440652   2.0   33.0   52.0   93.0  910.0\n",
       "spam    747.0  138.670683  28.873603  13.0  133.0  149.0  157.0  223.0"
      ]
     },
     "execution_count": 25,
     "metadata": {},
     "output_type": "execute_result"
    }
   ],
   "source": [
    "data.groupby('label').describe()"
   ]
  },
  {
   "cell_type": "code",
   "execution_count": 26,
   "metadata": {},
   "outputs": [
    {
     "data": {
      "text/plain": [
       "count    5572.000000\n",
       "mean       80.489950\n",
       "std        59.942907\n",
       "min         2.000000\n",
       "25%        36.000000\n",
       "50%        62.000000\n",
       "75%       122.000000\n",
       "max       910.000000\n",
       "Name: length, dtype: float64"
      ]
     },
     "execution_count": 26,
     "metadata": {},
     "output_type": "execute_result"
    }
   ],
   "source": [
    "data['length'] = data['message'].map(lambda text: len(text))\n",
    "data.length.describe()"
   ]
  },
  {
   "cell_type": "markdown",
   "metadata": {},
   "source": [
    "#### 2. Data Preprocessing"
   ]
  },
  {
   "cell_type": "code",
   "execution_count": 27,
   "metadata": {},
   "outputs": [],
   "source": [
    "STOPWORDS = set(stopwords.words('english'))\n",
    "lemmatizer = WordNetLemmatizer()\n",
    "\n",
    "def preprocess_text(text):\n",
    "    text = text.lower()  ### Convert to lowercase\n",
    "    text = re.sub(r'[^a-zA-Z\\s]', '', text) ### Remove punctuation and non-alphabetic characters\n",
    "    text = ' '.join([lemmatizer.lemmatize(word) for word in text.split() if word not in STOPWORDS]) ### Lemmatize and Remove Stopwords\n",
    "\n",
    "    return text"
   ]
  },
  {
   "cell_type": "code",
   "execution_count": 28,
   "metadata": {},
   "outputs": [
    {
     "data": {
      "application/vnd.microsoft.datawrangler.viewer.v0+json": {
       "columns": [
        {
         "name": "index",
         "rawType": "int64",
         "type": "integer"
        },
        {
         "name": "label",
         "rawType": "int64",
         "type": "integer"
        },
        {
         "name": "message",
         "rawType": "object",
         "type": "string"
        },
        {
         "name": "preprocessed",
         "rawType": "object",
         "type": "string"
        }
       ],
       "conversionMethod": "pd.DataFrame",
       "ref": "a68ea363-2ae1-474d-8dac-fff24900ee09",
       "rows": [
        [
         "0",
         "0",
         "Go until jurong point, crazy.. Available only in bugis n great world la e buffet... Cine there got amore wat...",
         "go jurong point crazy available bugis n great world la e buffet cine got amore wat"
        ],
        [
         "1",
         "0",
         "Ok lar... Joking wif u oni...",
         "ok lar joking wif u oni"
        ],
        [
         "2",
         "1",
         "Free entry in 2 a wkly comp to win FA Cup final tkts 21st May 2005. Text FA to 87121 to receive entry question(std txt rate)T&C's apply 08452810075over18's",
         "free entry wkly comp win fa cup final tkts st may text fa receive entry questionstd txt ratetcs apply over"
        ],
        [
         "3",
         "0",
         "U dun say so early hor... U c already then say...",
         "u dun say early hor u c already say"
        ],
        [
         "4",
         "0",
         "Nah I don't think he goes to usf, he lives around here though",
         "nah dont think go usf life around though"
        ],
        [
         "5",
         "1",
         "FreeMsg Hey there darling it's been 3 week's now and no word back! I'd like some fun you up for it still? Tb ok! XxX std chgs to send, £1.50 to rcv",
         "freemsg hey darling week word back id like fun still tb ok xxx std chgs send rcv"
        ],
        [
         "6",
         "0",
         "Even my brother is not like to speak with me. They treat me like aids patent.",
         "even brother like speak treat like aid patent"
        ],
        [
         "7",
         "0",
         "As per your request 'Melle Melle (Oru Minnaminunginte Nurungu Vettam)' has been set as your callertune for all Callers. Press *9 to copy your friends Callertune",
         "per request melle melle oru minnaminunginte nurungu vettam set callertune caller press copy friend callertune"
        ],
        [
         "8",
         "1",
         "WINNER!! As a valued network customer you have been selected to receivea £900 prize reward! To claim call 09061701461. Claim code KL341. Valid 12 hours only.",
         "winner valued network customer selected receivea prize reward claim call claim code kl valid hour"
        ],
        [
         "9",
         "1",
         "Had your mobile 11 months or more? U R entitled to Update to the latest colour mobiles with camera for Free! Call The Mobile Update Co FREE on 08002986030",
         "mobile month u r entitled update latest colour mobile camera free call mobile update co free"
        ],
        [
         "10",
         "0",
         "I'm gonna be home soon and i don't want to talk about this stuff anymore tonight, k? I've cried enough today.",
         "im gonna home soon dont want talk stuff anymore tonight k ive cried enough today"
        ],
        [
         "11",
         "1",
         "SIX chances to win CASH! From 100 to 20,000 pounds txt> CSH11 and send to 87575. Cost 150p/day, 6days, 16+ TsandCs apply Reply HL 4 info",
         "six chance win cash pound txt csh send cost pday day tsandcs apply reply hl info"
        ],
        [
         "12",
         "1",
         "URGENT! You have won a 1 week FREE membership in our £100,000 Prize Jackpot! Txt the word: CLAIM to No: 81010 T&C www.dbuk.net LCCLTD POBOX 4403LDNW1A7RW18",
         "urgent week free membership prize jackpot txt word claim tc wwwdbuknet lccltd pobox ldnwarw"
        ],
        [
         "13",
         "0",
         "I've been searching for the right words to thank you for this breather. I promise i wont take your help for granted and will fulfil my promise. You have been wonderful and a blessing at all times.",
         "ive searching right word thank breather promise wont take help granted fulfil promise wonderful blessing time"
        ],
        [
         "14",
         "0",
         "I HAVE A DATE ON SUNDAY WITH WILL!!",
         "date sunday"
        ],
        [
         "15",
         "1",
         "XXXMobileMovieClub: To use your credit, click the WAP link in the next txt message or click here>> http://wap. xxxmobilemovieclub.com?n=QJKGIGHJJGCBL",
         "xxxmobilemovieclub use credit click wap link next txt message click httpwap xxxmobilemovieclubcomnqjkgighjjgcbl"
        ],
        [
         "16",
         "0",
         "Oh k...i'm watching here:)",
         "oh kim watching"
        ],
        [
         "17",
         "0",
         "Eh u remember how 2 spell his name... Yes i did. He v naughty make until i v wet.",
         "eh u remember spell name yes v naughty make v wet"
        ],
        [
         "18",
         "0",
         "Fine if thats the way u feel. Thats the way its gota b",
         "fine thats way u feel thats way gota b"
        ],
        [
         "19",
         "1",
         "England v Macedonia - dont miss the goals/team news. Txt ur national team to 87077 eg ENGLAND to 87077 Try:WALES, SCOTLAND 4txt/ú1.20 POBOXox36504W45WQ 16+",
         "england v macedonia dont miss goalsteam news txt ur national team eg england trywales scotland txt poboxoxwwq"
        ],
        [
         "20",
         "0",
         "Is that seriously how you spell his name?",
         "seriously spell name"
        ],
        [
         "21",
         "0",
         "I‘m going to try for 2 months ha ha only joking",
         "im going try month ha ha joking"
        ],
        [
         "22",
         "0",
         "So ü pay first lar... Then when is da stock comin...",
         "pay first lar da stock comin"
        ],
        [
         "23",
         "0",
         "Aft i finish my lunch then i go str down lor. Ard 3 smth lor. U finish ur lunch already?",
         "aft finish lunch go str lor ard smth lor u finish ur lunch already"
        ],
        [
         "24",
         "0",
         "Ffffffffff. Alright no way I can meet up with you sooner?",
         "ffffffffff alright way meet sooner"
        ],
        [
         "25",
         "0",
         "Just forced myself to eat a slice. I'm really not hungry tho. This sucks. Mark is getting worried. He knows I'm sick when I turn down pizza. Lol",
         "forced eat slice im really hungry tho suck mark getting worried know im sick turn pizza lol"
        ],
        [
         "26",
         "0",
         "Lol your always so convincing.",
         "lol always convincing"
        ],
        [
         "27",
         "0",
         "Did you catch the bus ? Are you frying an egg ? Did you make a tea? Are you eating your mom's left over dinner ? Do you feel my Love ?",
         "catch bus frying egg make tea eating mom left dinner feel love"
        ],
        [
         "28",
         "0",
         "I'm back &amp; we're packing the car now, I'll let you know if there's room",
         "im back amp packing car ill let know there room"
        ],
        [
         "29",
         "0",
         "Ahhh. Work. I vaguely remember that! What does it feel like? Lol",
         "ahhh work vaguely remember feel like lol"
        ],
        [
         "30",
         "0",
         "Wait that's still not all that clear, were you not sure about me being sarcastic or that that's why x doesn't want to live with us",
         "wait thats still clear sure sarcastic thats x doesnt want live u"
        ],
        [
         "31",
         "0",
         "Yeah he got in at 2 and was v apologetic. n had fallen out and she was actin like spoilt child and he got caught up in that. Till 2! But we won't go there! Not doing too badly cheers. You? ",
         "yeah got v apologetic n fallen actin like spoilt child got caught till wont go badly cheer"
        ],
        [
         "32",
         "0",
         "K tell me anything about you.",
         "k tell anything"
        ],
        [
         "33",
         "0",
         "For fear of fainting with the of all that housework you just did? Quick have a cuppa",
         "fear fainting housework quick cuppa"
        ],
        [
         "34",
         "1",
         "Thanks for your subscription to Ringtone UK your mobile will be charged £5/month Please confirm by replying YES or NO. If you reply NO you will not be charged",
         "thanks subscription ringtone uk mobile charged month please confirm replying yes reply charged"
        ],
        [
         "35",
         "0",
         "Yup... Ok i go home look at the timings then i msg ü again... Xuhui going to learn on 2nd may too but her lesson is at 8am",
         "yup ok go home look timing msg xuhui going learn nd may lesson"
        ],
        [
         "36",
         "0",
         "Oops, I'll let you know when my roommate's done",
         "oops ill let know roommate done"
        ],
        [
         "37",
         "0",
         "I see the letter B on my car",
         "see letter b car"
        ],
        [
         "38",
         "0",
         "Anything lor... U decide...",
         "anything lor u decide"
        ],
        [
         "39",
         "0",
         "Hello! How's you and how did saturday go? I was just texting to see if you'd decided to do anything tomo. Not that i'm trying to invite myself or anything!",
         "hello hows saturday go texting see youd decided anything tomo im trying invite anything"
        ],
        [
         "40",
         "0",
         "Pls go ahead with watts. I just wanted to be sure. Do have a great weekend. Abiola",
         "pls go ahead watt wanted sure great weekend abiola"
        ],
        [
         "41",
         "0",
         "Did I forget to tell you ? I want you , I need you, I crave you ... But most of all ... I love you my sweet Arabian steed ... Mmmmmm ... Yummy",
         "forget tell want need crave love sweet arabian steed mmmmmm yummy"
        ],
        [
         "42",
         "1",
         "07732584351 - Rodger Burns - MSG = We tried to call you re your reply to our sms for a free nokia mobile + free camcorder. Please call now 08000930705 for delivery tomorrow",
         "rodger burn msg tried call reply sm free nokia mobile free camcorder please call delivery tomorrow"
        ],
        [
         "43",
         "0",
         "WHO ARE YOU SEEING?",
         "seeing"
        ],
        [
         "44",
         "0",
         "Great! I hope you like your man well endowed. I am  &lt;#&gt;  inches...",
         "great hope like man well endowed ltgt inch"
        ],
        [
         "45",
         "0",
         "No calls..messages..missed calls",
         "callsmessagesmissed call"
        ],
        [
         "46",
         "0",
         "Didn't you get hep b immunisation in nigeria.",
         "didnt get hep b immunisation nigeria"
        ],
        [
         "47",
         "0",
         "Fair enough, anything going on?",
         "fair enough anything going"
        ],
        [
         "48",
         "0",
         "Yeah hopefully, if tyler can't do it I could maybe ask around a bit",
         "yeah hopefully tyler cant could maybe ask around bit"
        ],
        [
         "49",
         "0",
         "U don't know how stubborn I am. I didn't even want to go to the hospital. I kept telling Mark I'm not a weak sucker. Hospitals are for weak suckers.",
         "u dont know stubborn didnt even want go hospital kept telling mark im weak sucker hospital weak sucker"
        ]
       ],
       "shape": {
        "columns": 3,
        "rows": 5572
       }
      },
      "text/html": [
       "<div>\n",
       "<style scoped>\n",
       "    .dataframe tbody tr th:only-of-type {\n",
       "        vertical-align: middle;\n",
       "    }\n",
       "\n",
       "    .dataframe tbody tr th {\n",
       "        vertical-align: top;\n",
       "    }\n",
       "\n",
       "    .dataframe thead th {\n",
       "        text-align: right;\n",
       "    }\n",
       "</style>\n",
       "<table border=\"1\" class=\"dataframe\">\n",
       "  <thead>\n",
       "    <tr style=\"text-align: right;\">\n",
       "      <th></th>\n",
       "      <th>label</th>\n",
       "      <th>message</th>\n",
       "      <th>preprocessed</th>\n",
       "    </tr>\n",
       "  </thead>\n",
       "  <tbody>\n",
       "    <tr>\n",
       "      <th>0</th>\n",
       "      <td>0</td>\n",
       "      <td>Go until jurong point, crazy.. Available only ...</td>\n",
       "      <td>go jurong point crazy available bugis n great ...</td>\n",
       "    </tr>\n",
       "    <tr>\n",
       "      <th>1</th>\n",
       "      <td>0</td>\n",
       "      <td>Ok lar... Joking wif u oni...</td>\n",
       "      <td>ok lar joking wif u oni</td>\n",
       "    </tr>\n",
       "    <tr>\n",
       "      <th>2</th>\n",
       "      <td>1</td>\n",
       "      <td>Free entry in 2 a wkly comp to win FA Cup fina...</td>\n",
       "      <td>free entry wkly comp win fa cup final tkts st ...</td>\n",
       "    </tr>\n",
       "    <tr>\n",
       "      <th>3</th>\n",
       "      <td>0</td>\n",
       "      <td>U dun say so early hor... U c already then say...</td>\n",
       "      <td>u dun say early hor u c already say</td>\n",
       "    </tr>\n",
       "    <tr>\n",
       "      <th>4</th>\n",
       "      <td>0</td>\n",
       "      <td>Nah I don't think he goes to usf, he lives aro...</td>\n",
       "      <td>nah dont think go usf life around though</td>\n",
       "    </tr>\n",
       "    <tr>\n",
       "      <th>...</th>\n",
       "      <td>...</td>\n",
       "      <td>...</td>\n",
       "      <td>...</td>\n",
       "    </tr>\n",
       "    <tr>\n",
       "      <th>5567</th>\n",
       "      <td>1</td>\n",
       "      <td>This is the 2nd time we have tried 2 contact u...</td>\n",
       "      <td>nd time tried contact u u pound prize claim ea...</td>\n",
       "    </tr>\n",
       "    <tr>\n",
       "      <th>5568</th>\n",
       "      <td>0</td>\n",
       "      <td>Will ü b going to esplanade fr home?</td>\n",
       "      <td>b going esplanade fr home</td>\n",
       "    </tr>\n",
       "    <tr>\n",
       "      <th>5569</th>\n",
       "      <td>0</td>\n",
       "      <td>Pity, * was in mood for that. So...any other s...</td>\n",
       "      <td>pity mood soany suggestion</td>\n",
       "    </tr>\n",
       "    <tr>\n",
       "      <th>5570</th>\n",
       "      <td>0</td>\n",
       "      <td>The guy did some bitching but I acted like i'd...</td>\n",
       "      <td>guy bitching acted like id interested buying s...</td>\n",
       "    </tr>\n",
       "    <tr>\n",
       "      <th>5571</th>\n",
       "      <td>0</td>\n",
       "      <td>Rofl. Its true to its name</td>\n",
       "      <td>rofl true name</td>\n",
       "    </tr>\n",
       "  </tbody>\n",
       "</table>\n",
       "<p>5572 rows × 3 columns</p>\n",
       "</div>"
      ],
      "text/plain": [
       "      label                                            message  \\\n",
       "0         0  Go until jurong point, crazy.. Available only ...   \n",
       "1         0                      Ok lar... Joking wif u oni...   \n",
       "2         1  Free entry in 2 a wkly comp to win FA Cup fina...   \n",
       "3         0  U dun say so early hor... U c already then say...   \n",
       "4         0  Nah I don't think he goes to usf, he lives aro...   \n",
       "...     ...                                                ...   \n",
       "5567      1  This is the 2nd time we have tried 2 contact u...   \n",
       "5568      0               Will ü b going to esplanade fr home?   \n",
       "5569      0  Pity, * was in mood for that. So...any other s...   \n",
       "5570      0  The guy did some bitching but I acted like i'd...   \n",
       "5571      0                         Rofl. Its true to its name   \n",
       "\n",
       "                                           preprocessed  \n",
       "0     go jurong point crazy available bugis n great ...  \n",
       "1                               ok lar joking wif u oni  \n",
       "2     free entry wkly comp win fa cup final tkts st ...  \n",
       "3                   u dun say early hor u c already say  \n",
       "4              nah dont think go usf life around though  \n",
       "...                                                 ...  \n",
       "5567  nd time tried contact u u pound prize claim ea...  \n",
       "5568                          b going esplanade fr home  \n",
       "5569                         pity mood soany suggestion  \n",
       "5570  guy bitching acted like id interested buying s...  \n",
       "5571                                     rofl true name  \n",
       "\n",
       "[5572 rows x 3 columns]"
      ]
     },
     "execution_count": 28,
     "metadata": {},
     "output_type": "execute_result"
    }
   ],
   "source": [
    "data['preprocessed'] = data.message.apply(preprocess_text)\n",
    "data['label'] = data.label.map({'ham':0,'spam':1})\n",
    "data.drop(columns=['length'], inplace=True)\n",
    "data"
   ]
  },
  {
   "cell_type": "code",
   "execution_count": 30,
   "metadata": {},
   "outputs": [
    {
     "name": "stdout",
     "output_type": "stream",
     "text": [
      "Vocabulary Size: 7947\n"
     ]
    }
   ],
   "source": [
    "### Tokenize and Creating Vocabulary\n",
    "\n",
    "tokens = word_tokenize(\" \".join(data['preprocessed']))\n",
    "bag_of_words = CountVectorizer().fit(tokens)\n",
    "\n",
    "vocab = bag_of_words.vocabulary_\n",
    "print(\"Vocabulary Size:\",len(vocab))"
   ]
  },
  {
   "cell_type": "code",
   "execution_count": 31,
   "metadata": {},
   "outputs": [],
   "source": [
    "with open('./sms+spam+collection/bag_of_words.pkl','wb') as f:\n",
    "    pickle.dump(bag_of_words,f)"
   ]
  },
  {
   "cell_type": "code",
   "execution_count": 32,
   "metadata": {},
   "outputs": [
    {
     "name": "stdout",
     "output_type": "stream",
     "text": [
      "sparse matrix shape: (5572, 7947)\n",
      "number of non-zeros: 44810\n",
      "sparsity: 0.10%\n"
     ]
    }
   ],
   "source": [
    "bow_msgs = bag_of_words.transform(data['message'])\n",
    "print('sparse matrix shape:', bow_msgs.shape)\n",
    "print('number of non-zeros:', bow_msgs.nnz)\n",
    "print('sparsity: %.2f%%' % (100.0 * bow_msgs.nnz / (bow_msgs.shape[0] * bow_msgs.shape[1])))"
   ]
  },
  {
   "cell_type": "code",
   "execution_count": 33,
   "metadata": {},
   "outputs": [
    {
     "data": {
      "text/plain": [
       "(5572, 7947)"
      ]
     },
     "execution_count": 33,
     "metadata": {},
     "output_type": "execute_result"
    }
   ],
   "source": [
    "bow_msgs.shape"
   ]
  },
  {
   "cell_type": "code",
   "execution_count": 34,
   "metadata": {},
   "outputs": [],
   "source": [
    "DATASET = data['preprocessed']\n",
    "LABELS = data['label'].values"
   ]
  },
  {
   "cell_type": "markdown",
   "metadata": {},
   "source": [
    "#### 3. Version 1: Splitting the Data"
   ]
  },
  {
   "cell_type": "code",
   "execution_count": 35,
   "metadata": {},
   "outputs": [],
   "source": [
    "X, X_test, Y, Y_test = train_test_split(DATASET, LABELS, test_size=0.15, random_state= 143)"
   ]
  },
  {
   "cell_type": "code",
   "execution_count": 36,
   "metadata": {},
   "outputs": [],
   "source": [
    "X_train, X_val, Y_train, Y_val = train_test_split(X, Y, test_size=0.2, random_state= 143)"
   ]
  },
  {
   "cell_type": "code",
   "execution_count": 37,
   "metadata": {},
   "outputs": [
    {
     "name": "stdout",
     "output_type": "stream",
     "text": [
      "Train Size: 3788\n",
      "Validation Size: 948\n",
      "Test Size: 836\n"
     ]
    }
   ],
   "source": [
    "print(\"Train Size:\", len(X_train))\n",
    "print(\"Validation Size:\", len(X_val))\n",
    "print(\"Test Size:\", len(X_test))"
   ]
  },
  {
   "cell_type": "code",
   "execution_count": 38,
   "metadata": {},
   "outputs": [],
   "source": [
    "TRAIN_DF = pd.DataFrame(X_train)\n",
    "TRAIN_DF['label'] = Y_train\n",
    "\n",
    "VAL_DF = pd.DataFrame(X_val)\n",
    "VAL_DF['label'] = Y_val\n",
    "\n",
    "TEST_DF = pd.DataFrame(X_test)\n",
    "TEST_DF['label'] = Y_test"
   ]
  },
  {
   "cell_type": "code",
   "execution_count": 39,
   "metadata": {},
   "outputs": [
    {
     "data": {
      "application/vnd.microsoft.datawrangler.viewer.v0+json": {
       "columns": [
        {
         "name": "index",
         "rawType": "int64",
         "type": "integer"
        },
        {
         "name": "preprocessed",
         "rawType": "object",
         "type": "string"
        },
        {
         "name": "label",
         "rawType": "int64",
         "type": "integer"
        }
       ],
       "conversionMethod": "pd.DataFrame",
       "ref": "798aa056-ac5b-4dea-970e-4366678dd21c",
       "rows": [
        [
         "4982",
         "said okay sorry",
         "0"
        ],
        [
         "3597",
         "good morning princess happy new year",
         "0"
        ],
        [
         "2319",
         "way office da",
         "0"
        ],
        [
         "1741",
         "ur going bahamas callfreefone speak live operator claim either bahamas cruise cash opt txt x",
         "1"
        ],
        [
         "5467",
         "get garden ready summer free selection summer bulb seed worth scotsman saturday stop go notxtcouk",
         "1"
        ],
        [
         "2022",
         "dont anybodys number still havent thought tactful way ask alex",
         "0"
        ],
        [
         "3708",
         "aight still want get money",
         "0"
        ],
        [
         "3050",
         "lol dont know awesome phone could click delete right want",
         "0"
        ],
        [
         "5496",
         "yes trust u buy new stuff asap try",
         "0"
        ],
        [
         "4886",
         "poor girl cant go one day lmao",
         "0"
        ],
        [
         "1889",
         "way home long dry spell season would",
         "0"
        ],
        [
         "5286",
         "im still pretty weak today bad day",
         "0"
        ],
        [
         "660",
         "premium phone service call",
         "1"
        ],
        [
         "2569",
         "hey leave friday wait ask superior tell",
         "0"
        ],
        [
         "3928",
         "lol really need remember eat im drinking appreciate keeping company night babe smile",
         "0"
        ],
        [
         "325",
         "problem",
         "0"
        ],
        [
         "2401",
         "hi roger cl",
         "0"
        ],
        [
         "5301",
         "time come tomorrow",
         "0"
        ],
        [
         "653",
         "wait know wesley town bet hella drug",
         "0"
        ],
        [
         "2100",
         "sm service inclusive text credit pls goto wwwcomuknet login unsubscribe stop extra charge help po box ip",
         "1"
        ],
        [
         "116",
         "entered cabin pa said happy bday bos felt special askd lunch lunch invited apartment went",
         "0"
        ],
        [
         "5167",
         "oh charge camera",
         "0"
        ],
        [
         "3873",
         "joining today formallypls keep prayingwill talk later",
         "0"
        ],
        [
         "2361",
         "money issue weigh thanks breathe easier ill make sure dont regret thanks",
         "0"
        ],
        [
         "1534",
         "horrible bf v hungry",
         "0"
        ],
        [
         "1215",
         "ill text creepy like wont think forgot",
         "0"
        ],
        [
         "3417",
         "uhhhhrmm isnt tb test bad youre sick",
         "0"
        ],
        [
         "2519",
         "joy father john john name joy father mandan",
         "0"
        ],
        [
         "1216",
         "would good ill phone tomo lunchtime shall organise something",
         "0"
        ],
        [
         "384",
         "hey late ah meet",
         "0"
        ],
        [
         "2609",
         "hello madam",
         "0"
        ],
        [
         "5080",
         "mark work tomorrow get work house meet u afterwards",
         "0"
        ],
        [
         "1481",
         "always saying welp",
         "0"
        ],
        [
         "4613",
         "sorry da gone mad many pending work",
         "0"
        ],
        [
         "1928",
         "omg could snow tonite",
         "0"
        ],
        [
         "3441",
         "time thinkin goin",
         "0"
        ],
        [
         "988",
         "geeee miss already know think fuck cant wait till next year together loving kiss",
         "0"
        ],
        [
         "2779",
         "ur chance win cash every wk txt action tscs wwwmovietriviatv custcare xpwk",
         "1"
        ],
        [
         "4009",
         "forgot working today wanna chat thing ok drop text youre free bored etc ill ring hope well nose essay xx",
         "0"
        ],
        [
         "4135",
         "yahoo boy bring perf legal",
         "0"
        ],
        [
         "5452",
         "hello wats talk email address",
         "0"
        ],
        [
         "1702",
         "come room cannot come house co house still messy haha",
         "0"
        ],
        [
         "4297",
         "please call immediately urgent message waiting",
         "1"
        ],
        [
         "20",
         "seriously spell name",
         "0"
        ],
        [
         "992",
         "hi im relaxing time ever get every day party good night get home tomorrow ish",
         "0"
        ],
        [
         "161",
         "keep safe need miss already envy everyone see real life",
         "0"
        ],
        [
         "3951",
         "got video tape pple type message lor u free wan help hee co noe u wan watch infernal affair ask u along asking shuhui oso",
         "0"
        ],
        [
         "1626",
         "hi dear call urgnt dont know whats problem dont want work problem least tell wating reply",
         "0"
        ],
        [
         "1362",
         "shuhui say change suntec steamboat u noe r u",
         "0"
        ],
        [
         "4120",
         "hiya u like hlday pic looked horrible took mo hows camp amrca thing speak soon serena",
         "0"
        ]
       ],
       "shape": {
        "columns": 2,
        "rows": 3788
       }
      },
      "text/html": [
       "<div>\n",
       "<style scoped>\n",
       "    .dataframe tbody tr th:only-of-type {\n",
       "        vertical-align: middle;\n",
       "    }\n",
       "\n",
       "    .dataframe tbody tr th {\n",
       "        vertical-align: top;\n",
       "    }\n",
       "\n",
       "    .dataframe thead th {\n",
       "        text-align: right;\n",
       "    }\n",
       "</style>\n",
       "<table border=\"1\" class=\"dataframe\">\n",
       "  <thead>\n",
       "    <tr style=\"text-align: right;\">\n",
       "      <th></th>\n",
       "      <th>preprocessed</th>\n",
       "      <th>label</th>\n",
       "    </tr>\n",
       "  </thead>\n",
       "  <tbody>\n",
       "    <tr>\n",
       "      <th>4982</th>\n",
       "      <td>said okay sorry</td>\n",
       "      <td>0</td>\n",
       "    </tr>\n",
       "    <tr>\n",
       "      <th>3597</th>\n",
       "      <td>good morning princess happy new year</td>\n",
       "      <td>0</td>\n",
       "    </tr>\n",
       "    <tr>\n",
       "      <th>2319</th>\n",
       "      <td>way office da</td>\n",
       "      <td>0</td>\n",
       "    </tr>\n",
       "    <tr>\n",
       "      <th>1741</th>\n",
       "      <td>ur going bahamas callfreefone speak live opera...</td>\n",
       "      <td>1</td>\n",
       "    </tr>\n",
       "    <tr>\n",
       "      <th>5467</th>\n",
       "      <td>get garden ready summer free selection summer ...</td>\n",
       "      <td>1</td>\n",
       "    </tr>\n",
       "    <tr>\n",
       "      <th>...</th>\n",
       "      <td>...</td>\n",
       "      <td>...</td>\n",
       "    </tr>\n",
       "    <tr>\n",
       "      <th>5256</th>\n",
       "      <td>well shes big surprise</td>\n",
       "      <td>0</td>\n",
       "    </tr>\n",
       "    <tr>\n",
       "      <th>3899</th>\n",
       "      <td>otherwise part time job natuition</td>\n",
       "      <td>0</td>\n",
       "    </tr>\n",
       "    <tr>\n",
       "      <th>5117</th>\n",
       "      <td>aslamalaikkuminsha allah tohar beeen muht albi...</td>\n",
       "      <td>0</td>\n",
       "    </tr>\n",
       "    <tr>\n",
       "      <th>4972</th>\n",
       "      <td>hey come online use msn</td>\n",
       "      <td>0</td>\n",
       "    </tr>\n",
       "    <tr>\n",
       "      <th>3839</th>\n",
       "      <td>went pay rent go bank authorise payment</td>\n",
       "      <td>0</td>\n",
       "    </tr>\n",
       "  </tbody>\n",
       "</table>\n",
       "<p>3788 rows × 2 columns</p>\n",
       "</div>"
      ],
      "text/plain": [
       "                                           preprocessed  label\n",
       "4982                                    said okay sorry      0\n",
       "3597               good morning princess happy new year      0\n",
       "2319                                      way office da      0\n",
       "1741  ur going bahamas callfreefone speak live opera...      1\n",
       "5467  get garden ready summer free selection summer ...      1\n",
       "...                                                 ...    ...\n",
       "5256                             well shes big surprise      0\n",
       "3899                  otherwise part time job natuition      0\n",
       "5117  aslamalaikkuminsha allah tohar beeen muht albi...      0\n",
       "4972                            hey come online use msn      0\n",
       "3839            went pay rent go bank authorise payment      0\n",
       "\n",
       "[3788 rows x 2 columns]"
      ]
     },
     "execution_count": 39,
     "metadata": {},
     "output_type": "execute_result"
    }
   ],
   "source": [
    "TRAIN_DF"
   ]
  },
  {
   "cell_type": "code",
   "execution_count": 40,
   "metadata": {},
   "outputs": [
    {
     "data": {
      "application/vnd.microsoft.datawrangler.viewer.v0+json": {
       "columns": [
        {
         "name": "index",
         "rawType": "int64",
         "type": "integer"
        },
        {
         "name": "preprocessed",
         "rawType": "object",
         "type": "string"
        },
        {
         "name": "label",
         "rawType": "int64",
         "type": "integer"
        }
       ],
       "conversionMethod": "pd.DataFrame",
       "ref": "8ac600e4-03f0-426b-a58d-9bc01ed77255",
       "rows": [
        [
         "3819",
         "xmas iscoming ur awarded either cd gift voucher free entry r weekly draw txt music tnc",
         "1"
        ],
        [
         "5058",
         "hey next sun there basic yoga course bugis go pilate intro next sat tell time r free",
         "0"
        ],
        [
         "480",
         "whenre guy getting back g said thinking staying mcr",
         "0"
        ],
        [
         "2398",
         "neshanthtel r u",
         "0"
        ],
        [
         "2700",
         "oh baby house come dont new picture facebook",
         "0"
        ],
        [
         "5537",
         "want explicit sex sec ring cost pmin gsex pobox wcn xx",
         "1"
        ],
        [
         "5390",
         "nt joking seriously told",
         "0"
        ],
        [
         "3300",
         "honeybee said im sweetest world god laughed amp said waitu havnt met person reading msg moral even god crack joke gmgngegn",
         "0"
        ],
        [
         "5423",
         "sorry ill call later",
         "0"
        ],
        [
         "1068",
         "meeting u work tel shall work tomorrow",
         "0"
        ],
        [
         "2077",
         "trust even isnt",
         "0"
        ],
        [
         "126",
         "good stuff",
         "0"
        ],
        [
         "4913",
         "way tirupur",
         "0"
        ],
        [
         "2576",
         "thats going ruin thesis",
         "0"
        ],
        [
         "3695",
         "ok im sure time finish tomorrow wanna spend evening co would vewy vewy lubly love xxx",
         "0"
        ],
        [
         "4415",
         "stupid say challenge godyou dont think write instead respond immed",
         "0"
        ],
        [
         "2079",
         "freeringtonereply real",
         "1"
        ],
        [
         "1252",
         "please call immediately urgent message waiting",
         "1"
        ],
        [
         "2807",
         "",
         "0"
        ],
        [
         "188",
         "please call customer service representative freephone ampm guaranteed cash prize",
         "1"
        ],
        [
         "452",
         "thanks hope good day today",
         "0"
        ],
        [
         "3341",
         "like made throw smoking friend car one time awesome",
         "0"
        ],
        [
         "964",
         "yo chad gymnastics class wanna take site say christian class full",
         "0"
        ],
        [
         "2447",
         "sorry ill call later",
         "0"
        ],
        [
         "4821",
         "check choose babe video smsshsexnetun fgkslpopw fgkslpo",
         "1"
        ],
        [
         "1085",
         "love start attractioni feel need every time around meshe first thing come thoughtsi would start day end hershe every time dreamlove every breath namemy life happen around hermy life named heri would cry herwill give happiness take sorrowsi ready fight anyone heri love craziest thing herlove dont proove anyone girl beautiful lady whole planeti always singing praise herlove start making chicken curry end makiing sambarlife beautiful thenwill get every morning thank god day mei would like say lotwill tell later",
         "0"
        ],
        [
         "1667",
         "guess spent last night phasing fourth dimension",
         "0"
        ],
        [
         "4501",
         "nvm take ur time",
         "0"
        ],
        [
         "2059",
         "ugh fuck im resubbing eve",
         "0"
        ],
        [
         "1681",
         "okay wait ah",
         "0"
        ],
        [
         "3836",
         "im thinking chennai forgot come auction",
         "0"
        ],
        [
         "2597",
         "im gonna able late notice ill home week anyway plan",
         "0"
        ],
        [
         "2008",
         "hi birth lb oz mother baby brilliantly",
         "0"
        ],
        [
         "771",
         "getting anywhere damn job hunting",
         "0"
        ],
        [
         "1321",
         "sent scream moan bed princess",
         "0"
        ],
        [
         "4105",
         "u hav frnd name ashwini ur college",
         "0"
        ],
        [
         "3263",
         "shore takin bus",
         "0"
        ],
        [
         "4867",
         "oh shit thought trip loooooool make much sense grin sofa reference sleep couch link sent wasnt went trip oh didnt babe go celebration rent",
         "0"
        ],
        [
         "1205",
         "win year supply cd store ur choice worth enter weekly draw txt music tscs wwwldewcomsubswinppmx",
         "1"
        ],
        [
         "4391",
         "know god created gap finger one made come amp fill gap holding hand love",
         "0"
        ],
        [
         "4113",
         "ill see prolly yeah",
         "0"
        ],
        [
         "2299",
         "dont pick call something important tell hrishi",
         "0"
        ],
        [
         "2767",
         "married local woman looking discreet action real match instantly phone text match msg cost p stop txt stop bcmsfwcnxx",
         "1"
        ],
        [
         "4195",
         "use foreign stamp country",
         "0"
        ],
        [
         "1254",
         "mum say wan go go shun bian watch da glass exhibition",
         "0"
        ],
        [
         "175",
         "well im gonna finish bath goodfine night",
         "0"
        ],
        [
         "1744",
         "love wine dine lady",
         "0"
        ],
        [
         "4298",
         "thesmszonecom let send free anonymous masked messagesim sending message theredo see potential abuse",
         "1"
        ],
        [
         "3397",
         "urgent mobile number awarded bonus caller prize call land line valid hr",
         "1"
        ],
        [
         "5481",
         "shall call dear food",
         "0"
        ]
       ],
       "shape": {
        "columns": 2,
        "rows": 948
       }
      },
      "text/html": [
       "<div>\n",
       "<style scoped>\n",
       "    .dataframe tbody tr th:only-of-type {\n",
       "        vertical-align: middle;\n",
       "    }\n",
       "\n",
       "    .dataframe tbody tr th {\n",
       "        vertical-align: top;\n",
       "    }\n",
       "\n",
       "    .dataframe thead th {\n",
       "        text-align: right;\n",
       "    }\n",
       "</style>\n",
       "<table border=\"1\" class=\"dataframe\">\n",
       "  <thead>\n",
       "    <tr style=\"text-align: right;\">\n",
       "      <th></th>\n",
       "      <th>preprocessed</th>\n",
       "      <th>label</th>\n",
       "    </tr>\n",
       "  </thead>\n",
       "  <tbody>\n",
       "    <tr>\n",
       "      <th>3819</th>\n",
       "      <td>xmas iscoming ur awarded either cd gift vouche...</td>\n",
       "      <td>1</td>\n",
       "    </tr>\n",
       "    <tr>\n",
       "      <th>5058</th>\n",
       "      <td>hey next sun there basic yoga course bugis go ...</td>\n",
       "      <td>0</td>\n",
       "    </tr>\n",
       "    <tr>\n",
       "      <th>480</th>\n",
       "      <td>whenre guy getting back g said thinking stayin...</td>\n",
       "      <td>0</td>\n",
       "    </tr>\n",
       "    <tr>\n",
       "      <th>2398</th>\n",
       "      <td>neshanthtel r u</td>\n",
       "      <td>0</td>\n",
       "    </tr>\n",
       "    <tr>\n",
       "      <th>2700</th>\n",
       "      <td>oh baby house come dont new picture facebook</td>\n",
       "      <td>0</td>\n",
       "    </tr>\n",
       "    <tr>\n",
       "      <th>...</th>\n",
       "      <td>...</td>\n",
       "      <td>...</td>\n",
       "    </tr>\n",
       "    <tr>\n",
       "      <th>2593</th>\n",
       "      <td>friend got say he upping order gram he got ltg...</td>\n",
       "      <td>0</td>\n",
       "    </tr>\n",
       "    <tr>\n",
       "      <th>1455</th>\n",
       "      <td>decide faster co si going home liao</td>\n",
       "      <td>0</td>\n",
       "    </tr>\n",
       "    <tr>\n",
       "      <th>2014</th>\n",
       "      <td>great news call freefone claim guaranteed cash...</td>\n",
       "      <td>1</td>\n",
       "    </tr>\n",
       "    <tr>\n",
       "      <th>4095</th>\n",
       "      <td>miss</td>\n",
       "      <td>0</td>\n",
       "    </tr>\n",
       "    <tr>\n",
       "      <th>4315</th>\n",
       "      <td>ur change da report big co ive already made ch...</td>\n",
       "      <td>0</td>\n",
       "    </tr>\n",
       "  </tbody>\n",
       "</table>\n",
       "<p>948 rows × 2 columns</p>\n",
       "</div>"
      ],
      "text/plain": [
       "                                           preprocessed  label\n",
       "3819  xmas iscoming ur awarded either cd gift vouche...      1\n",
       "5058  hey next sun there basic yoga course bugis go ...      0\n",
       "480   whenre guy getting back g said thinking stayin...      0\n",
       "2398                                    neshanthtel r u      0\n",
       "2700       oh baby house come dont new picture facebook      0\n",
       "...                                                 ...    ...\n",
       "2593  friend got say he upping order gram he got ltg...      0\n",
       "1455                decide faster co si going home liao      0\n",
       "2014  great news call freefone claim guaranteed cash...      1\n",
       "4095                                               miss      0\n",
       "4315  ur change da report big co ive already made ch...      0\n",
       "\n",
       "[948 rows x 2 columns]"
      ]
     },
     "execution_count": 40,
     "metadata": {},
     "output_type": "execute_result"
    }
   ],
   "source": [
    "VAL_DF"
   ]
  },
  {
   "cell_type": "code",
   "execution_count": 41,
   "metadata": {},
   "outputs": [
    {
     "data": {
      "application/vnd.microsoft.datawrangler.viewer.v0+json": {
       "columns": [
        {
         "name": "index",
         "rawType": "int64",
         "type": "integer"
        },
        {
         "name": "preprocessed",
         "rawType": "object",
         "type": "string"
        },
        {
         "name": "label",
         "rawType": "int64",
         "type": "integer"
        }
       ],
       "conversionMethod": "pd.DataFrame",
       "ref": "1288f021-ac96-4d62-bd0f-eff0f39da29a",
       "rows": [
        [
         "2248",
         "back work morro half term u c nite sexy passion b go back chat luv dena call minmobsmorelkpoboxhpfl",
         "1"
        ],
        [
         "4111",
         "yo gonna still stock tomorrowtoday im trying get dubsack",
         "0"
        ],
        [
         "4478",
         "oh outside player allowed play know",
         "0"
        ],
        [
         "2759",
         "time im prob",
         "0"
        ],
        [
         "1140",
         "messagesome text missing sendername missing number missing sentdate missing missing u lot thats everything missing sent via fullonsmscom",
         "0"
        ],
        [
         "481",
         "almost see u sec",
         "0"
        ],
        [
         "5176",
         "company goodenvironment terrific food really nice",
         "0"
        ],
        [
         "4050",
         "yeah thats impression got",
         "0"
        ],
        [
         "2471",
         "eat old airport road oredi got lot pple",
         "0"
        ],
        [
         "3673",
         "came look flat seems ok away alot wiv work got woman coming",
         "0"
        ],
        [
         "5443",
         "guaranteed award maybe even cash claim ur award call free legitimat efreefone number wat u think",
         "1"
        ],
        [
         "4586",
         "u secret admirer looking make contact ufind rreveal think ur specialcall stopsmsppm",
         "1"
        ],
        [
         "4472",
         "wa u efficient gee thanx",
         "0"
        ],
        [
         "5436",
         "mode men left",
         "0"
        ],
        [
         "5105",
         "wnt buy bmw car urgentlyits vry urgentbut hv shortage ltgt lacsthere source arng dis amt ltgt lacsthats prob",
         "0"
        ],
        [
         "3475",
         "hows thing quick question",
         "0"
        ],
        [
         "809",
         "taking half day leave bec well",
         "0"
        ],
        [
         "1430",
         "sale arsenal dartboard good condition double treble",
         "1"
        ],
        [
         "5279",
         "helloooo wake sweet morning welcome enjoy day full joy gud mrng",
         "0"
        ],
        [
         "588",
         "pete please ring meive hardly gotany credit",
         "0"
        ],
        [
         "2446",
         "guy kadeem hasnt selling since break know one guy he paranoid fuck doesnt like selling without cant til late tonight",
         "0"
        ],
        [
         "2171",
         "please come imin towndontmatter urgoin outlrjust reallyneed docdplease dontplease dontignore mycallsu thecd isvimportant tome moro",
         "0"
        ],
        [
         "613",
         "many dependent",
         "0"
        ],
        [
         "1230",
         "jus an lar ull noe later",
         "0"
        ],
        [
         "4119",
         "watch lor saw swatch one thk quite ok ard need nd opinion leh",
         "0"
        ],
        [
         "1516",
         "wonder youll get text",
         "0"
        ],
        [
         "526",
         "hi wont b ard christmas enjoy n merry xmas",
         "0"
        ],
        [
         "2129",
         "well im going aunty",
         "0"
        ],
        [
         "2953",
         "tell who pls",
         "0"
        ],
        [
         "1311",
         "ill always even spirit ill get bb soon trying sure need",
         "0"
        ],
        [
         "4281",
         "winner valued network customer selected receivea prize reward claim call claim code kl valid hour",
         "1"
        ],
        [
         "5488",
         "k sent",
         "0"
        ],
        [
         "5469",
         "ok lor",
         "0"
        ],
        [
         "2658",
         "dai ltgt naal eruku",
         "0"
        ],
        [
         "3039",
         "bothering trust answer pls",
         "0"
        ],
        [
         "1011",
         "lol would mom would fit tell whole family crazy terrible",
         "0"
        ],
        [
         "4587",
         "mila age blonde new uk look sex uk guy u like fun text mtalk pptxt st free increment help",
         "1"
        ],
        [
         "2986",
         "break time one come n get stuff fr",
         "0"
        ],
        [
         "5255",
         "ok sweet dream",
         "0"
        ],
        [
         "3353",
         "call say coming today ok tell fool like ok",
         "0"
        ],
        [
         "3374",
         "look like found something smoke great job",
         "0"
        ],
        [
         "5214",
         "natalja f inviting friend reply yes see wwwsmsacunat stop send stop frnd",
         "1"
        ],
        [
         "4934",
         "free call sir",
         "0"
        ],
        [
         "218",
         "easy ahsen got selected mean good",
         "0"
        ],
        [
         "4462",
         "thanks reply today ur visa coming r u still buying gucci bag sister thing easy uncle john also bill really need think make money later sha",
         "0"
        ],
        [
         "3664",
         "frnd juz wordnot merely relationshipits silent promise say wherevr whenevr forevr gudnyt dear",
         "0"
        ],
        [
         "5486",
         "ofcourse also upload song",
         "0"
        ],
        [
         "853",
         "da run activate full version da",
         "0"
        ],
        [
         "1572",
         "near kalainar tv officethenampet",
         "0"
        ],
        [
         "4709",
         "say bold torch later one torch bold",
         "0"
        ]
       ],
       "shape": {
        "columns": 2,
        "rows": 836
       }
      },
      "text/html": [
       "<div>\n",
       "<style scoped>\n",
       "    .dataframe tbody tr th:only-of-type {\n",
       "        vertical-align: middle;\n",
       "    }\n",
       "\n",
       "    .dataframe tbody tr th {\n",
       "        vertical-align: top;\n",
       "    }\n",
       "\n",
       "    .dataframe thead th {\n",
       "        text-align: right;\n",
       "    }\n",
       "</style>\n",
       "<table border=\"1\" class=\"dataframe\">\n",
       "  <thead>\n",
       "    <tr style=\"text-align: right;\">\n",
       "      <th></th>\n",
       "      <th>preprocessed</th>\n",
       "      <th>label</th>\n",
       "    </tr>\n",
       "  </thead>\n",
       "  <tbody>\n",
       "    <tr>\n",
       "      <th>2248</th>\n",
       "      <td>back work morro half term u c nite sexy passio...</td>\n",
       "      <td>1</td>\n",
       "    </tr>\n",
       "    <tr>\n",
       "      <th>4111</th>\n",
       "      <td>yo gonna still stock tomorrowtoday im trying g...</td>\n",
       "      <td>0</td>\n",
       "    </tr>\n",
       "    <tr>\n",
       "      <th>4478</th>\n",
       "      <td>oh outside player allowed play know</td>\n",
       "      <td>0</td>\n",
       "    </tr>\n",
       "    <tr>\n",
       "      <th>2759</th>\n",
       "      <td>time im prob</td>\n",
       "      <td>0</td>\n",
       "    </tr>\n",
       "    <tr>\n",
       "      <th>1140</th>\n",
       "      <td>messagesome text missing sendername missing nu...</td>\n",
       "      <td>0</td>\n",
       "    </tr>\n",
       "    <tr>\n",
       "      <th>...</th>\n",
       "      <td>...</td>\n",
       "      <td>...</td>\n",
       "    </tr>\n",
       "    <tr>\n",
       "      <th>2613</th>\n",
       "      <td>yes innocent fun</td>\n",
       "      <td>0</td>\n",
       "    </tr>\n",
       "    <tr>\n",
       "      <th>4576</th>\n",
       "      <td>directly behind abt row behind</td>\n",
       "      <td>0</td>\n",
       "    </tr>\n",
       "    <tr>\n",
       "      <th>4986</th>\n",
       "      <td>dont let studying stress lr</td>\n",
       "      <td>0</td>\n",
       "    </tr>\n",
       "    <tr>\n",
       "      <th>1869</th>\n",
       "      <td>today system sh get readyall well also deep well</td>\n",
       "      <td>0</td>\n",
       "    </tr>\n",
       "    <tr>\n",
       "      <th>5531</th>\n",
       "      <td>compliment away system side</td>\n",
       "      <td>0</td>\n",
       "    </tr>\n",
       "  </tbody>\n",
       "</table>\n",
       "<p>836 rows × 2 columns</p>\n",
       "</div>"
      ],
      "text/plain": [
       "                                           preprocessed  label\n",
       "2248  back work morro half term u c nite sexy passio...      1\n",
       "4111  yo gonna still stock tomorrowtoday im trying g...      0\n",
       "4478                oh outside player allowed play know      0\n",
       "2759                                       time im prob      0\n",
       "1140  messagesome text missing sendername missing nu...      0\n",
       "...                                                 ...    ...\n",
       "2613                                   yes innocent fun      0\n",
       "4576                     directly behind abt row behind      0\n",
       "4986                        dont let studying stress lr      0\n",
       "1869   today system sh get readyall well also deep well      0\n",
       "5531                        compliment away system side      0\n",
       "\n",
       "[836 rows x 2 columns]"
      ]
     },
     "execution_count": 41,
     "metadata": {},
     "output_type": "execute_result"
    }
   ],
   "source": [
    "TEST_DF"
   ]
  },
  {
   "cell_type": "markdown",
   "metadata": {},
   "source": [
    "Saving the Splits in Separate Files for Version 1"
   ]
  },
  {
   "cell_type": "code",
   "execution_count": 44,
   "metadata": {},
   "outputs": [],
   "source": [
    "TRAIN_DF.to_csv('./TRAIN.csv', index=False)\n",
    "VAL_DF.to_csv('./VALIDATION.csv', index=False)\n",
    "TEST_DF.to_csv('./TEST.csv', index=False)"
   ]
  },
  {
   "cell_type": "code",
   "execution_count": 45,
   "metadata": {},
   "outputs": [
    {
     "name": "stderr",
     "output_type": "stream",
     "text": [
      "⠋ Checking graph\n",
      "\n"
     ]
    },
    {
     "name": "stdout",
     "output_type": "stream",
     "text": [
      "[main 63c8d6a] Version 1 of train/validation/test split\n",
      " 3 files changed, 15 insertions(+)\n",
      " create mode 100644 Assignment 2/TEST.csv.dvc\n",
      " create mode 100644 Assignment 2/TRAIN.csv.dvc\n",
      " create mode 100644 Assignment 2/VALIDATION.csv.dvc\n",
      "3 files pushed\n"
     ]
    }
   ],
   "source": [
    "# Track the version 1 with DVC\n",
    "!dvc add TRAIN.csv VALIDATION.csv TEST.csv\n",
    "!git add TRAIN.csv.dvc VALIDATION.csv.dvc TEST.csv.dvc\n",
    "!git commit -m \"Version 1 of train/validation/test split\"\n",
    "!dvc push"
   ]
  },
  {
   "cell_type": "markdown",
   "metadata": {},
   "source": [
    "#### 4. Version 2: Splitting the Data with different random seed"
   ]
  },
  {
   "cell_type": "code",
   "execution_count": 46,
   "metadata": {},
   "outputs": [],
   "source": [
    "X, X_test, Y, Y_test = train_test_split(DATASET, LABELS, test_size=0.15, random_state= 1432)"
   ]
  },
  {
   "cell_type": "code",
   "execution_count": 47,
   "metadata": {},
   "outputs": [],
   "source": [
    "X_train, X_val, Y_train, Y_val = train_test_split(X, Y, test_size=0.2, random_state= 1432)"
   ]
  },
  {
   "cell_type": "code",
   "execution_count": 48,
   "metadata": {},
   "outputs": [
    {
     "name": "stdout",
     "output_type": "stream",
     "text": [
      "Train Size: 3788\n",
      "Validation Size: 948\n",
      "Test Size: 836\n"
     ]
    }
   ],
   "source": [
    "print(\"Train Size:\", len(X_train))\n",
    "print(\"Validation Size:\", len(X_val))\n",
    "print(\"Test Size:\", len(X_test))"
   ]
  },
  {
   "cell_type": "code",
   "execution_count": 49,
   "metadata": {},
   "outputs": [],
   "source": [
    "TRAIN_DF = pd.DataFrame(X_train)\n",
    "TRAIN_DF['label'] = Y_train\n",
    "\n",
    "VAL_DF = pd.DataFrame(X_val)\n",
    "VAL_DF['label'] = Y_val\n",
    "\n",
    "TEST_DF = pd.DataFrame(X_test)\n",
    "TEST_DF['label'] = Y_test"
   ]
  },
  {
   "cell_type": "markdown",
   "metadata": {},
   "source": [
    "Saving the Splits in Separate Files for Version 2"
   ]
  },
  {
   "cell_type": "code",
   "execution_count": 50,
   "metadata": {},
   "outputs": [],
   "source": [
    "TRAIN_DF.to_csv('./TRAIN.csv', index=False)\n",
    "VAL_DF.to_csv('./VALIDATION.csv', index=False)\n",
    "TEST_DF.to_csv('./TEST.csv', index=False)"
   ]
  },
  {
   "cell_type": "code",
   "execution_count": 51,
   "metadata": {},
   "outputs": [
    {
     "name": "stderr",
     "output_type": "stream",
     "text": [
      "⠋ Checking graph\n",
      "\n"
     ]
    },
    {
     "name": "stdout",
     "output_type": "stream",
     "text": [
      "[main a249381] Version 2 of train/validation/test split\n",
      " 3 files changed, 6 insertions(+), 6 deletions(-)\n",
      "3 files pushed\n"
     ]
    }
   ],
   "source": [
    "# Track the version 1 with DVC\n",
    "!dvc add TRAIN.csv VALIDATION.csv TEST.csv\n",
    "!git add TRAIN.csv.dvc VALIDATION.csv.dvc TEST.csv.dvc\n",
    "!git commit -m \"Version 2 of train/validation/test split\"\n",
    "!dvc push"
   ]
  },
  {
   "cell_type": "markdown",
   "metadata": {},
   "source": [
    "#### Checking the Version 1 distribution"
   ]
  },
  {
   "cell_type": "code",
   "execution_count": 52,
   "metadata": {},
   "outputs": [
    {
     "name": "stdout",
     "output_type": "stream",
     "text": [
      "commit a2493817ce89ceaefa38eac1e865f5bff7efa168\n",
      "Author: Ayush Yadav <yadavayush7028@gmail.com>\n",
      "Date:   Tue Mar 4 14:18:12 2025 +0530\n",
      "\n",
      "    Version 2 of train/validation/test split\n",
      "\n",
      "commit 63c8d6aef7d9530e41cb4169c6c966f5d81e6403\n",
      "Author: Ayush Yadav <yadavayush7028@gmail.com>\n",
      "Date:   Tue Mar 4 14:15:02 2025 +0530\n",
      "\n",
      "    Version 1 of train/validation/test split\n",
      "\n",
      "commit 0e29c03effe0d869bf37c9ea008c5eb848dc1b1f\n",
      "Author: Ayush Yadav <yadavayush7028@gmail.com>\n",
      "Date:   Tue Mar 4 14:07:15 2025 +0530\n",
      "\n",
      "    Added raw data\n",
      "\n",
      "commit 2005ffab53da966f6c93435e7fc54d4f849e9640\n",
      "Author: Ayush Yadav <yadavayush7028@gmail.com>\n",
      "Date:   Tue Mar 4 14:03:09 2025 +0530\n",
      "\n",
      "    Reinitialize DVC\n",
      "\n",
      "commit 8364a24b0beedc2cf89955fa4e8de59da396ce65\n",
      "Author: Ayush Yadav <yadavayush7028@gmail.com>\n",
      "Date:   Thu Jan 30 16:16:26 2025 +0530\n",
      "\n",
      "    ''\n",
      "\n",
      "commit fc9e18397d0a0fb58e330d28941f0ee7d687af86\n",
      "Author: Ayush Yadav <89350275+yadavayush7028@users.noreply.github.com>\n",
      "Date:   Thu Jan 9 17:05:58 2025 +0530\n",
      "\n",
      "    Initial commit\n"
     ]
    }
   ],
   "source": [
    "!git log "
   ]
  },
  {
   "cell_type": "code",
   "execution_count": 54,
   "metadata": {},
   "outputs": [
    {
     "name": "stdout",
     "output_type": "stream",
     "text": [
      "M\tAssignment 2/.dvc/config\n"
     ]
    },
    {
     "name": "stderr",
     "output_type": "stream",
     "text": [
      "Note: switching to '63c8d6aef7d9530e41cb4169c6c966f5d81e6403'.\n",
      "\n",
      "You are in 'detached HEAD' state. You can look around, make experimental\n",
      "changes and commit them, and you can discard any commits you make in this\n",
      "state without impacting any branches by switching back to a branch.\n",
      "\n",
      "If you want to create a new branch to retain commits you create, you may\n",
      "do so (now or later) by using -c with the switch command. Example:\n",
      "\n",
      "  git switch -c <new-branch-name>\n",
      "\n",
      "Or undo this operation with:\n",
      "\n",
      "  git switch -\n",
      "\n",
      "Turn off this advice by setting config variable advice.detachedHead to false\n",
      "\n",
      "HEAD is now at 63c8d6a Version 1 of train/validation/test split\n"
     ]
    },
    {
     "name": "stdout",
     "output_type": "stream",
     "text": [
      "M       TEST.csv\n",
      "M       VALIDATION.csv\n",
      "M       TRAIN.csv\n"
     ]
    }
   ],
   "source": [
    "!git checkout 63c8d6aef7d9530e41cb4169c6c966f5d81e6403\n",
    "!dvc checkout"
   ]
  },
  {
   "cell_type": "code",
   "execution_count": 56,
   "metadata": {},
   "outputs": [
    {
     "name": "stdout",
     "output_type": "stream",
     "text": [
      "Version 1: class distribution:\n",
      "Train:\n",
      " label\n",
      "0    3273\n",
      "1     515\n",
      "Name: count, dtype: int64\n",
      "Validation:\n",
      " label\n",
      "0    827\n",
      "1    121\n",
      "Name: count, dtype: int64\n",
      "Test:\n",
      " label\n",
      "0    725\n",
      "1    111\n",
      "Name: count, dtype: int64\n"
     ]
    }
   ],
   "source": [
    "# Load and print class distributions\n",
    "TRAIN = pd.read_csv(\"TRAIN.csv\")\n",
    "VALIDATION = pd.read_csv(\"VALIDATION.csv\")\n",
    "TEST = pd.read_csv(\"TEST.csv\")\n",
    "\n",
    "print(\"Version 1: class distribution:\")\n",
    "print(\"Train:\\n\", TRAIN[\"label\"].value_counts())\n",
    "print(\"Validation:\\n\", VALIDATION[\"label\"].value_counts())\n",
    "print(\"Test:\\n\", TEST[\"label\"].value_counts())"
   ]
  },
  {
   "cell_type": "markdown",
   "metadata": {},
   "source": [
    "#### Checking Version 2 "
   ]
  },
  {
   "cell_type": "code",
   "execution_count": 57,
   "metadata": {},
   "outputs": [
    {
     "name": "stdout",
     "output_type": "stream",
     "text": [
      "M\tAssignment 2/.dvc/config\n"
     ]
    },
    {
     "name": "stderr",
     "output_type": "stream",
     "text": [
      "Previous HEAD position was 63c8d6a Version 1 of train/validation/test split\n",
      "HEAD is now at a249381 Version 2 of train/validation/test split\n"
     ]
    },
    {
     "name": "stdout",
     "output_type": "stream",
     "text": [
      "M       VALIDATION.csv\n",
      "M       TEST.csv\n",
      "M       TRAIN.csv\n"
     ]
    }
   ],
   "source": [
    "!git checkout a2493817ce89ceaefa38eac1e865f5bff7efa168\n",
    "!dvc checkout"
   ]
  },
  {
   "cell_type": "code",
   "execution_count": 58,
   "metadata": {},
   "outputs": [
    {
     "name": "stdout",
     "output_type": "stream",
     "text": [
      "Version 1: class distribution:\n",
      "Train:\n",
      " label\n",
      "0    3296\n",
      "1     492\n",
      "Name: count, dtype: int64\n",
      "Validation:\n",
      " label\n",
      "0    817\n",
      "1    131\n",
      "Name: count, dtype: int64\n",
      "Test:\n",
      " label\n",
      "0    712\n",
      "1    124\n",
      "Name: count, dtype: int64\n"
     ]
    }
   ],
   "source": [
    "# Load and print class distributions\n",
    "TRAIN = pd.read_csv(\"TRAIN.csv\")\n",
    "VALIDATION = pd.read_csv(\"VALIDATION.csv\")\n",
    "TEST = pd.read_csv(\"TEST.csv\")\n",
    "\n",
    "print(\"Version 1: class distribution:\")\n",
    "print(\"Train:\\n\", TRAIN[\"label\"].value_counts())\n",
    "print(\"Validation:\\n\", VALIDATION[\"label\"].value_counts())\n",
    "print(\"Test:\\n\", TEST[\"label\"].value_counts())"
   ]
  },
  {
   "cell_type": "code",
   "execution_count": null,
   "metadata": {},
   "outputs": [],
   "source": []
  }
 ],
 "metadata": {
  "kernelspec": {
   "display_name": "Python 3",
   "language": "python",
   "name": "python3"
  },
  "language_info": {
   "codemirror_mode": {
    "name": "ipython",
    "version": 3
   },
   "file_extension": ".py",
   "mimetype": "text/x-python",
   "name": "python",
   "nbconvert_exporter": "python",
   "pygments_lexer": "ipython3",
   "version": "3.10.9"
  }
 },
 "nbformat": 4,
 "nbformat_minor": 2
}
