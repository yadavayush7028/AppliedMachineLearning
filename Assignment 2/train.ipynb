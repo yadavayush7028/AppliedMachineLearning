{
 "cells": [
  {
   "cell_type": "markdown",
   "metadata": {},
   "source": [
    "# Assignment 2\n",
    "\n",
    "### Ayush Yadav (MDS202315)\n",
    "\n",
    "**Model version control and experiment tracking** <br>\n",
    "\n",
    "In `train.ipynb`  track the experiments and model versions using mlflow\n",
    "1) Build, track, and register 3 benchmark models using MLflow\n",
    "2) Checkout and print the model selection metric AUCPR for each of the three benchmark models"
   ]
  },
  {
   "cell_type": "code",
   "execution_count": 27,
   "metadata": {},
   "outputs": [],
   "source": [
    "import pandas as pd\n",
    "import numpy as np\n",
    "import matplotlib.pyplot as plt\n",
    "import re\n",
    "\n",
    "import nltk\n",
    "from nltk.corpus import stopwords, wordnet\n",
    "from nltk.stem import WordNetLemmatizer\n",
    "from nltk.tokenize import word_tokenize\n",
    "\n",
    "from sklearn.feature_extraction.text import CountVectorizer, TfidfTransformer\n",
    "from sklearn.naive_bayes import MultinomialNB\n",
    "from sklearn.svm import SVC, LinearSVC\n",
    "from sklearn.metrics import classification_report, f1_score, accuracy_score, confusion_matrix, roc_auc_score, roc_curve, average_precision_score\n",
    "from sklearn.linear_model import LogisticRegression\n",
    "from sklearn.pipeline import Pipeline\n",
    "from sklearn.model_selection import GridSearchCV, StratifiedKFold, cross_val_score, train_test_split\n",
    "from sklearn.tree import DecisionTreeClassifier\n",
    "from sklearn.ensemble import RandomForestClassifier, GradientBoostingClassifier\n",
    "\n",
    "from scipy import sparse\n",
    "from scipy.sparse import load_npz\n",
    "\n",
    "import pickle\n",
    "import warnings\n",
    "\n",
    "import mlflow\n",
    "import mlflow.sklearn\n",
    "\n",
    "warnings.filterwarnings('ignore')"
   ]
  },
  {
   "cell_type": "markdown",
   "metadata": {},
   "source": [
    "#### Importing the Data"
   ]
  },
  {
   "cell_type": "code",
   "execution_count": 28,
   "metadata": {},
   "outputs": [],
   "source": [
    "TRAIN = pd.read_csv('./TRAIN.csv').dropna()\n",
    "VAL = pd.read_csv('./VALIDATION.csv').dropna()\n",
    "TEST = pd.read_csv('./TEST.csv').dropna()\n",
    "\n",
    "bow_msgs = load_npz('./sms+spam+collection/bag_of_words.npz')\n",
    "\n",
    "with open('./sms+spam+collection/bag_of_words.pkl','rb') as f:\n",
    "    bag_of_words = pickle.load(f)"
   ]
  },
  {
   "cell_type": "code",
   "execution_count": 29,
   "metadata": {},
   "outputs": [],
   "source": [
    "train_x = TRAIN.drop(columns=['label'])\n",
    "train_y = TRAIN.label\n",
    "\n",
    "val_x = VAL.drop(columns=['label'])\n",
    "val_y = VAL.label\n",
    "\n",
    "test_x = TEST.drop(columns=['label'])\n",
    "test_y = TEST.label"
   ]
  },
  {
   "cell_type": "code",
   "execution_count": 30,
   "metadata": {},
   "outputs": [],
   "source": [
    "train_x = bag_of_words.transform(train_x['preprocessed'])\n",
    "val_x = bag_of_words.transform(val_x['preprocessed'])\n",
    "test_x = bag_of_words.transform(test_x['preprocessed'])"
   ]
  },
  {
   "cell_type": "code",
   "execution_count": 31,
   "metadata": {},
   "outputs": [
    {
     "name": "stdout",
     "output_type": "stream",
     "text": [
      "Training data shape: (3784, 7947)\n",
      "Validation data shape: (946, 7947)\n",
      "Testing data shape: (836, 7947)\n"
     ]
    }
   ],
   "source": [
    "### Vectorizing using TF-IDF Vectorize\n",
    "\n",
    "tfidf_transformer = TfidfTransformer().fit(bow_msgs)\n",
    "\n",
    "X_train = tfidf_transformer.transform(train_x)\n",
    "print(\"Training data shape:\",X_train.shape)\n",
    "\n",
    "X_val = tfidf_transformer.transform(val_x)\n",
    "print(\"Validation data shape:\",X_val.shape)\n",
    "\n",
    "X_test = tfidf_transformer.transform(test_x)\n",
    "print(\"Testing data shape:\",X_test.shape)"
   ]
  },
  {
   "cell_type": "markdown",
   "metadata": {},
   "source": [
    "##### Naive Bayes"
   ]
  },
  {
   "cell_type": "code",
   "execution_count": 54,
   "metadata": {},
   "outputs": [],
   "source": [
    "def naive_bayes(X_train, y_train, X_val, y_val, X_test, y_test):\n",
    "\n",
    "    clf=MultinomialNB(fit_prior=True, class_prior=None)\n",
    "\n",
    "    clf_parameters = {\n",
    "        'clf__alpha':(0,1),\n",
    "        }\n",
    "\n",
    "    pipeline = Pipeline([('clf', clf)])\n",
    "\n",
    "    parameters={**clf_parameters}\n",
    "\n",
    "    grid = GridSearchCV(pipeline,parameters,n_jobs=-1,scoring='f1',cv=10)\n",
    "\n",
    "    grid.fit(X_train, y_train)\n",
    "\n",
    "    clf = grid.best_estimator_\n",
    "\n",
    "    val_preds = clf.predict(X_val)\n",
    "    test_preds = clf.predict(X_test)\n",
    "    y_test_prob = clf.predict_proba(X_test)[:, 1]\n",
    "\n",
    "\n",
    "    return [grid, accuracy_score(y_val, val_preds), f1_score(y_val, val_preds), average_precision_score(y_test, y_test_prob)] "
   ]
  },
  {
   "cell_type": "markdown",
   "metadata": {},
   "source": [
    "##### Logistic Regression"
   ]
  },
  {
   "cell_type": "code",
   "execution_count": 52,
   "metadata": {},
   "outputs": [],
   "source": [
    "def logistic_regression(X_train, y_train, X_val, y_val, X_test, y_test):\n",
    "\n",
    "    clf = LogisticRegression(class_weight='balanced', n_jobs=-1)\n",
    "    clf_parameters = {\n",
    "                    'clf__solver':('newton-cg','lbfgs','liblinear','saga'),\n",
    "                }\n",
    "\n",
    "    pipeline = Pipeline([('clf', clf)])\n",
    "\n",
    "    parameters={**clf_parameters}\n",
    "\n",
    "    grid = GridSearchCV(pipeline,parameters,n_jobs=-1,scoring='f1',cv=10)\n",
    "\n",
    "    grid.fit(X_train, y_train)\n",
    "\n",
    "    clf = grid.best_estimator_\n",
    "\n",
    "    val_preds = clf.predict(X_val)\n",
    "    test_preds = clf.predict(X_test)\n",
    "    y_test_prob = clf.predict_proba(X_test)[:, 1]\n",
    "\n",
    "\n",
    "    return [grid, accuracy_score(y_val, val_preds), f1_score(y_val, val_preds), average_precision_score(y_test, y_test_prob)] "
   ]
  },
  {
   "cell_type": "markdown",
   "metadata": {},
   "source": [
    "##### Random Forest"
   ]
  },
  {
   "cell_type": "code",
   "execution_count": 51,
   "metadata": {},
   "outputs": [],
   "source": [
    "def random_forest(X_train, y_train, X_val, y_val, X_test, y_test):\n",
    "\n",
    "    clf = RandomForestClassifier(class_weight='balanced', max_depth=10)\n",
    "    clf_parameters = {\n",
    "                'clf__criterion':('gini', 'entropy'), \n",
    "                'clf__max_features':('sqrt', 'log2'),   \n",
    "                'clf__n_estimators':(10, 30,50,100,200),\n",
    "                'clf__max_depth':(10,20),\n",
    "                } \n",
    "\n",
    "    pipeline = Pipeline([('clf', clf)])\n",
    "\n",
    "    parameters={**clf_parameters}\n",
    "\n",
    "    grid = GridSearchCV(pipeline,parameters,n_jobs=-1,scoring='f1',cv=10)\n",
    "\n",
    "    grid.fit(X_train, y_train)\n",
    "\n",
    "    clf = grid.best_estimator_\n",
    "\n",
    "    val_preds = clf.predict(X_val)\n",
    "    test_preds = clf.predict(X_test)\n",
    "    y_test_prob = clf.predict_proba(X_test)[:, 1]\n",
    "\n",
    "\n",
    "    return [grid, accuracy_score(y_val, val_preds), f1_score(y_val, val_preds), average_precision_score(y_test, y_test_prob)] "
   ]
  },
  {
   "cell_type": "markdown",
   "metadata": {},
   "source": [
    "##### Gradient Boosting"
   ]
  },
  {
   "cell_type": "code",
   "execution_count": 50,
   "metadata": {},
   "outputs": [],
   "source": [
    "def grad_boost(X_train, y_train, X_val, y_val, X_test, y_test):\n",
    "\n",
    "    clf = GradientBoostingClassifier()\n",
    "    clf_parameters = {\n",
    "                'clf__loss':('log_loss','exponential'),        \n",
    "                'clf__criterion':('friedman_mse', 'squared_error'), \n",
    "                'clf__max_features':('sqrt', 'log2'),   \n",
    "                'clf__n_estimators':(50,100,200),\n",
    "                'clf__max_depth':(5,10),\n",
    "                } \n",
    "\n",
    "    pipeline = Pipeline([('clf', clf)])\n",
    "\n",
    "    parameters={**clf_parameters}\n",
    "\n",
    "    grid = GridSearchCV(pipeline,parameters,n_jobs=-1,scoring='f1',cv=10)\n",
    "\n",
    "    grid.fit(X_train, y_train)\n",
    "\n",
    "    clf = grid.best_estimator_\n",
    "\n",
    "    val_preds = clf.predict(X_val)\n",
    "    test_preds = clf.predict(X_test)\n",
    "    y_test_prob = clf.predict_proba(X_test)[:, 1]\n",
    "\n",
    "\n",
    "    return [grid, accuracy_score(y_val, val_preds), f1_score(y_val, val_preds), average_precision_score(y_test, y_test_prob)]"
   ]
  },
  {
   "cell_type": "markdown",
   "metadata": {},
   "source": [
    "##### Support Vector Machine"
   ]
  },
  {
   "cell_type": "code",
   "execution_count": 49,
   "metadata": {},
   "outputs": [],
   "source": [
    "def SVM(X_train, y_train, X_val, y_val, X_test, y_test):\n",
    "\n",
    "    clf = SVC(class_weight='balanced', probability=True)  \n",
    "    clf_parameters = {\n",
    "        'clf__C':(0.1,0.5,1,2,10,50,100),\n",
    "        'clf__kernel': ('linear', 'rbf','poly')\n",
    "        }\n",
    "\n",
    "    pipeline = Pipeline([('clf', clf)])\n",
    "\n",
    "    parameters={**clf_parameters}\n",
    "\n",
    "    grid = GridSearchCV(pipeline,parameters,n_jobs=-1,scoring='f1',cv=10)\n",
    "\n",
    "    grid.fit(X_train, y_train)\n",
    "\n",
    "    clf = grid.best_estimator_\n",
    "\n",
    "    val_preds = clf.predict(X_val)\n",
    "    test_preds = clf.predict(X_test)\n",
    "    y_test_prob = clf.predict_proba(X_test)[:, 1]\n",
    "\n",
    "\n",
    "    return [grid, accuracy_score(y_val, val_preds), f1_score(y_val, val_preds), average_precision_score(y_test, y_test_prob)] "
   ]
  },
  {
   "cell_type": "markdown",
   "metadata": {},
   "source": [
    "#### Model Tracking using MLFlow"
   ]
  },
  {
   "cell_type": "code",
   "execution_count": 55,
   "metadata": {},
   "outputs": [],
   "source": [
    "MODELS = {\"Naive Bayes\": naive_bayes(X_train, train_y, X_val, val_y, X_test, test_y),\n",
    "        \"Logistic Regression\": logistic_regression(X_train, train_y, X_val, val_y, X_test, test_y),\n",
    "        \"Random Forest\":random_forest(X_train, train_y, X_val, val_y, X_test, test_y),\n",
    "        \"Gradient Boosting\":grad_boost(X_train, train_y, X_val, val_y, X_test, test_y),\n",
    "        \"SVM\":SVM(X_train, train_y, X_val, val_y, X_test, test_y) \n",
    "        }"
   ]
  },
  {
   "cell_type": "code",
   "execution_count": 57,
   "metadata": {},
   "outputs": [
    {
     "name": "stderr",
     "output_type": "stream",
     "text": [
      "2025/03/04 20:30:21 INFO mlflow.tracking.fluent: Experiment with name 'Benchmark_models' does not exist. Creating a new experiment.\n"
     ]
    }
   ],
   "source": [
    "mlflow.set_experiment(\"Benchmark_models\")\n",
    "input_example = X_test[:1].toarray() \n",
    "best_models = {}"
   ]
  },
  {
   "cell_type": "code",
   "execution_count": 58,
   "metadata": {},
   "outputs": [
    {
     "name": "stdout",
     "output_type": "stream",
     "text": [
      "----------------------NAIVE BAYES---------------------\n",
      "Best Params: {'clf__alpha': 1}\n",
      "Validation Accuracy: 0.9630\n",
      "F1 Score: 0.8458\n",
      "AUCPR Score: 0.9429\n"
     ]
    },
    {
     "data": {
      "application/vnd.jupyter.widget-view+json": {
       "model_id": "735f86459b024aa382ce19a3d2fa86e0",
       "version_major": 2,
       "version_minor": 0
      },
      "text/plain": [
       "Downloading artifacts:   0%|          | 0/7 [00:00<?, ?it/s]"
      ]
     },
     "metadata": {},
     "output_type": "display_data"
    },
    {
     "name": "stderr",
     "output_type": "stream",
     "text": [
      "Registered model 'Naive Bayes' already exists. Creating a new version of this model...\n",
      "Created version '2' of model 'Naive Bayes'.\n"
     ]
    },
    {
     "name": "stdout",
     "output_type": "stream",
     "text": [
      "NAIVE BAYES logged and registered in MLflow.\n",
      "\n",
      "\n",
      "\n",
      "----------------------LOGISTIC REGRESSION---------------------\n",
      "Best Params: {'clf__solver': 'liblinear'}\n",
      "Validation Accuracy: 0.9736\n",
      "F1 Score: 0.9035\n",
      "AUCPR Score: 0.9590\n"
     ]
    },
    {
     "data": {
      "application/vnd.jupyter.widget-view+json": {
       "model_id": "1d827ee9501541169037acaef2868fb4",
       "version_major": 2,
       "version_minor": 0
      },
      "text/plain": [
       "Downloading artifacts:   0%|          | 0/7 [00:00<?, ?it/s]"
      ]
     },
     "metadata": {},
     "output_type": "display_data"
    },
    {
     "name": "stderr",
     "output_type": "stream",
     "text": [
      "Registered model 'Logistic Regression' already exists. Creating a new version of this model...\n",
      "Created version '2' of model 'Logistic Regression'.\n"
     ]
    },
    {
     "name": "stdout",
     "output_type": "stream",
     "text": [
      "LOGISTIC REGRESSION logged and registered in MLflow.\n",
      "\n",
      "\n",
      "\n",
      "----------------------RANDOM FOREST---------------------\n",
      "Best Params: {'clf__criterion': 'gini', 'clf__max_depth': 20, 'clf__max_features': 'sqrt', 'clf__n_estimators': 200}\n",
      "Validation Accuracy: 0.9778\n",
      "F1 Score: 0.9150\n",
      "AUCPR Score: 0.9636\n"
     ]
    },
    {
     "data": {
      "application/vnd.jupyter.widget-view+json": {
       "model_id": "0efea68a221d43fcaa8155d5a3d40840",
       "version_major": 2,
       "version_minor": 0
      },
      "text/plain": [
       "Downloading artifacts:   0%|          | 0/7 [00:00<?, ?it/s]"
      ]
     },
     "metadata": {},
     "output_type": "display_data"
    },
    {
     "name": "stderr",
     "output_type": "stream",
     "text": [
      "Registered model 'Random Forest' already exists. Creating a new version of this model...\n",
      "Created version '2' of model 'Random Forest'.\n"
     ]
    },
    {
     "name": "stdout",
     "output_type": "stream",
     "text": [
      "RANDOM FOREST logged and registered in MLflow.\n",
      "\n",
      "\n",
      "\n",
      "----------------------GRADIENT BOOSTING---------------------\n",
      "Best Params: {'clf__criterion': 'squared_error', 'clf__loss': 'log_loss', 'clf__max_depth': 10, 'clf__max_features': 'sqrt', 'clf__n_estimators': 200}\n",
      "Validation Accuracy: 0.9746\n",
      "F1 Score: 0.8992\n",
      "AUCPR Score: 0.9489\n"
     ]
    },
    {
     "data": {
      "application/vnd.jupyter.widget-view+json": {
       "model_id": "abc4ec48a6f04af9a6b8a3e448ba215e",
       "version_major": 2,
       "version_minor": 0
      },
      "text/plain": [
       "Downloading artifacts:   0%|          | 0/7 [00:00<?, ?it/s]"
      ]
     },
     "metadata": {},
     "output_type": "display_data"
    },
    {
     "name": "stderr",
     "output_type": "stream",
     "text": [
      "Registered model 'Gradient Boosting' already exists. Creating a new version of this model...\n",
      "Created version '2' of model 'Gradient Boosting'.\n"
     ]
    },
    {
     "name": "stdout",
     "output_type": "stream",
     "text": [
      "GRADIENT BOOSTING logged and registered in MLflow.\n",
      "\n",
      "\n",
      "\n",
      "----------------------SVM---------------------\n",
      "Best Params: {'clf__C': 1, 'clf__kernel': 'linear'}\n",
      "Validation Accuracy: 0.9767\n",
      "F1 Score: 0.9134\n",
      "AUCPR Score: 0.9746\n"
     ]
    },
    {
     "data": {
      "application/vnd.jupyter.widget-view+json": {
       "model_id": "2b49dc615bfa4f3d8f3cb89e2a5d0e35",
       "version_major": 2,
       "version_minor": 0
      },
      "text/plain": [
       "Downloading artifacts:   0%|          | 0/7 [00:00<?, ?it/s]"
      ]
     },
     "metadata": {},
     "output_type": "display_data"
    },
    {
     "name": "stdout",
     "output_type": "stream",
     "text": [
      "SVM logged and registered in MLflow.\n",
      "\n",
      "\n",
      "\n",
      "LOGGING AND REGISTERING COMPLETE !!!\n"
     ]
    },
    {
     "name": "stderr",
     "output_type": "stream",
     "text": [
      "Registered model 'SVM' already exists. Creating a new version of this model...\n",
      "Created version '2' of model 'SVM'.\n"
     ]
    }
   ],
   "source": [
    "for model in MODELS.keys():\n",
    "    with mlflow.start_run(run_name=model):\n",
    "        print(f\"----------------------{model.upper()}---------------------\")\n",
    "        \n",
    "        model_name = model\n",
    "\n",
    "        best_model = MODELS[model_name][0].best_estimator_\n",
    "        best_models[model_name] = best_model\n",
    "        \n",
    "        model_best_params = MODELS[model_name][0].best_params_\n",
    "        model_accuracy = MODELS[model_name][1]\n",
    "        model_f1_score = MODELS[model_name][2]\n",
    "        model_aucpr = MODELS[model_name][3]\n",
    "\n",
    "        print(f\"Best Params: {model_best_params}\")\n",
    "        print(f\"Validation Accuracy: {model_accuracy:.4f}\")\n",
    "        print(f\"F1 Score: {model_f1_score:.4f}\")\n",
    "        print(f\"AUCPR Score: {model_aucpr:.4f}\")\n",
    "\n",
    "        mlflow.log_params(model_best_params)\n",
    "        mlflow.log_metric(\"Accuracy\", model_accuracy)\n",
    "        mlflow.log_metric(\"F-Score\", model_f1_score)\n",
    "        mlflow.log_metric(\"AUCPR\", model_aucpr)\n",
    "\n",
    "        mlflow.sklearn.log_model(sk_model=best_model,artifact_path=model_name,input_example=input_example)\n",
    "\n",
    "        mlflow.register_model(f\"runs:/{mlflow.active_run().info.run_id}/{model_name}\", model_name)\n",
    "\n",
    "        print(f\"{model_name.upper()} logged and registered in MLflow.\\n\\n\\n\")\n",
    "\n",
    "print(\"LOGGING AND REGISTERING COMPLETE !!!\")"
   ]
  },
  {
   "cell_type": "code",
   "execution_count": null,
   "metadata": {},
   "outputs": [],
   "source": []
  }
 ],
 "metadata": {
  "kernelspec": {
   "display_name": "Python 3",
   "language": "python",
   "name": "python3"
  },
  "language_info": {
   "codemirror_mode": {
    "name": "ipython",
    "version": 3
   },
   "file_extension": ".py",
   "mimetype": "text/x-python",
   "name": "python",
   "nbconvert_exporter": "python",
   "pygments_lexer": "ipython3",
   "version": "3.10.9"
  }
 },
 "nbformat": 4,
 "nbformat_minor": 2
}
